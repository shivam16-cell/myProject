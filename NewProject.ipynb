{
 "cells": [
  {
   "cell_type": "code",
   "execution_count": 1,
   "metadata": {},
   "outputs": [],
   "source": [
    "# importing libraries\n",
    "import numpy as np\n",
    "import pandas as pd\n",
    "import matplotlib.pyplot as plt\n",
    "import seaborn as sns\n",
    "from sklearn import metrics\n",
    "\n",
    "%matplotlib inline\n",
    "\n",
    "import warnings\n",
    "warnings.filterwarnings('ignore')"
   ]
  },
  {
   "cell_type": "code",
   "execution_count": 2,
   "metadata": {},
   "outputs": [
    {
     "name": "stdout",
     "output_type": "stream",
     "text": [
      "<class 'pandas.core.frame.DataFrame'>\n",
      "RangeIndex: 303 entries, 0 to 302\n",
      "Data columns (total 56 columns):\n",
      " #   Column                 Non-Null Count  Dtype  \n",
      "---  ------                 --------------  -----  \n",
      " 0   Age                    303 non-null    int64  \n",
      " 1   Weight                 303 non-null    int64  \n",
      " 2   Length                 303 non-null    int64  \n",
      " 3   Sex                    303 non-null    object \n",
      " 4   BMI                    303 non-null    float64\n",
      " 5   DM                     303 non-null    int64  \n",
      " 6   HTN                    303 non-null    int64  \n",
      " 7   Current_Smoker         303 non-null    int64  \n",
      " 8   EX-Smoker              303 non-null    int64  \n",
      " 9   FH                     303 non-null    int64  \n",
      " 10  Obesity                303 non-null    object \n",
      " 11  CRF                    303 non-null    object \n",
      " 12  CVA                    303 non-null    object \n",
      " 13  Airway_disease         303 non-null    object \n",
      " 14  Thyroid_Disease        303 non-null    object \n",
      " 15  CHF                    303 non-null    object \n",
      " 16  DLP                    303 non-null    object \n",
      " 17  BP                     303 non-null    int64  \n",
      " 18  PR                     303 non-null    int64  \n",
      " 19  Edema                  303 non-null    int64  \n",
      " 20  Weak_Peripheral_Pulse  303 non-null    object \n",
      " 21  Lung_rales             303 non-null    object \n",
      " 22  Systolic_Murmur        303 non-null    object \n",
      " 23  Diastolic_Murmur       303 non-null    object \n",
      " 24  Typical_Chest_Pain     303 non-null    int64  \n",
      " 25  Dyspnea                303 non-null    object \n",
      " 26  Function_Class         303 non-null    int64  \n",
      " 27  Atypical               303 non-null    object \n",
      " 28  Nonanginal             303 non-null    object \n",
      " 29  Exertional_CP          303 non-null    object \n",
      " 30  LowTH_Ang              303 non-null    object \n",
      " 31  Q_Wave                 303 non-null    int64  \n",
      " 32  St_Elevation           303 non-null    int64  \n",
      " 33  St_Depression          303 non-null    int64  \n",
      " 34  Tinversion             303 non-null    int64  \n",
      " 35  LVH                    303 non-null    object \n",
      " 36  Poor_R_Progression     303 non-null    object \n",
      " 37  BBB                    303 non-null    object \n",
      " 38  FBS                    303 non-null    int64  \n",
      " 39  CR                     303 non-null    float64\n",
      " 40  TG                     303 non-null    int64  \n",
      " 41  LDL                    303 non-null    int64  \n",
      " 42  HDL                    303 non-null    float64\n",
      " 43  BUN                    303 non-null    int64  \n",
      " 44  ESR                    303 non-null    int64  \n",
      " 45  HB                     303 non-null    float64\n",
      " 46  K                      303 non-null    float64\n",
      " 47  Na                     303 non-null    int64  \n",
      " 48  WBC                    303 non-null    int64  \n",
      " 49  Lymph                  303 non-null    int64  \n",
      " 50  Neut                   303 non-null    int64  \n",
      " 51  PLT                    303 non-null    int64  \n",
      " 52  EF-TTE                 303 non-null    int64  \n",
      " 53  Region_RWMA            303 non-null    int64  \n",
      " 54  VHD                    303 non-null    object \n",
      " 55  Cath                   303 non-null    int64  \n",
      "dtypes: float64(5), int64(30), object(21)\n",
      "memory usage: 132.7+ KB\n"
     ]
    }
   ],
   "source": [
    "#importing datasets  \n",
    "dataset = pd.read_excel (\"/home/shivam/Desktop/Mini Project/Z-Alizadehsanidataset.xlsx\")   \n",
    "dataset.info()"
   ]
  },
  {
   "cell_type": "code",
   "execution_count": 3,
   "metadata": {},
   "outputs": [
    {
     "data": {
      "text/html": [
       "<div>\n",
       "<style scoped>\n",
       "    .dataframe tbody tr th:only-of-type {\n",
       "        vertical-align: middle;\n",
       "    }\n",
       "\n",
       "    .dataframe tbody tr th {\n",
       "        vertical-align: top;\n",
       "    }\n",
       "\n",
       "    .dataframe thead th {\n",
       "        text-align: right;\n",
       "    }\n",
       "</style>\n",
       "<table border=\"1\" class=\"dataframe\">\n",
       "  <thead>\n",
       "    <tr style=\"text-align: right;\">\n",
       "      <th></th>\n",
       "      <th>Age</th>\n",
       "      <th>Weight</th>\n",
       "      <th>Length</th>\n",
       "      <th>BMI</th>\n",
       "      <th>DM</th>\n",
       "      <th>HTN</th>\n",
       "      <th>Current_Smoker</th>\n",
       "      <th>EX-Smoker</th>\n",
       "      <th>FH</th>\n",
       "      <th>BP</th>\n",
       "      <th>...</th>\n",
       "      <th>HB</th>\n",
       "      <th>K</th>\n",
       "      <th>Na</th>\n",
       "      <th>WBC</th>\n",
       "      <th>Lymph</th>\n",
       "      <th>Neut</th>\n",
       "      <th>PLT</th>\n",
       "      <th>EF-TTE</th>\n",
       "      <th>Region_RWMA</th>\n",
       "      <th>Cath</th>\n",
       "    </tr>\n",
       "  </thead>\n",
       "  <tbody>\n",
       "    <tr>\n",
       "      <th>count</th>\n",
       "      <td>303.000000</td>\n",
       "      <td>303.000000</td>\n",
       "      <td>303.000000</td>\n",
       "      <td>303.000000</td>\n",
       "      <td>303.000000</td>\n",
       "      <td>303.000000</td>\n",
       "      <td>303.000000</td>\n",
       "      <td>303.000000</td>\n",
       "      <td>303.000000</td>\n",
       "      <td>303.000000</td>\n",
       "      <td>...</td>\n",
       "      <td>303.000000</td>\n",
       "      <td>303.000000</td>\n",
       "      <td>303.000000</td>\n",
       "      <td>303.000000</td>\n",
       "      <td>303.000000</td>\n",
       "      <td>303.000000</td>\n",
       "      <td>303.000000</td>\n",
       "      <td>303.000000</td>\n",
       "      <td>303.000000</td>\n",
       "      <td>303.000000</td>\n",
       "    </tr>\n",
       "    <tr>\n",
       "      <th>mean</th>\n",
       "      <td>58.897690</td>\n",
       "      <td>73.831683</td>\n",
       "      <td>164.716172</td>\n",
       "      <td>27.248339</td>\n",
       "      <td>0.297030</td>\n",
       "      <td>0.590759</td>\n",
       "      <td>0.207921</td>\n",
       "      <td>0.033003</td>\n",
       "      <td>0.158416</td>\n",
       "      <td>129.554455</td>\n",
       "      <td>...</td>\n",
       "      <td>13.153465</td>\n",
       "      <td>4.230693</td>\n",
       "      <td>140.996700</td>\n",
       "      <td>7562.046205</td>\n",
       "      <td>32.399340</td>\n",
       "      <td>60.148515</td>\n",
       "      <td>221.488449</td>\n",
       "      <td>47.231023</td>\n",
       "      <td>0.620462</td>\n",
       "      <td>0.712871</td>\n",
       "    </tr>\n",
       "    <tr>\n",
       "      <th>std</th>\n",
       "      <td>10.392278</td>\n",
       "      <td>11.987358</td>\n",
       "      <td>9.327661</td>\n",
       "      <td>4.098865</td>\n",
       "      <td>0.457706</td>\n",
       "      <td>0.492507</td>\n",
       "      <td>0.406491</td>\n",
       "      <td>0.178941</td>\n",
       "      <td>0.365734</td>\n",
       "      <td>18.938105</td>\n",
       "      <td>...</td>\n",
       "      <td>1.610452</td>\n",
       "      <td>0.458202</td>\n",
       "      <td>3.807885</td>\n",
       "      <td>2413.739323</td>\n",
       "      <td>9.972592</td>\n",
       "      <td>10.182493</td>\n",
       "      <td>60.796199</td>\n",
       "      <td>8.927194</td>\n",
       "      <td>1.132531</td>\n",
       "      <td>0.453171</td>\n",
       "    </tr>\n",
       "    <tr>\n",
       "      <th>min</th>\n",
       "      <td>30.000000</td>\n",
       "      <td>48.000000</td>\n",
       "      <td>140.000000</td>\n",
       "      <td>18.115413</td>\n",
       "      <td>0.000000</td>\n",
       "      <td>0.000000</td>\n",
       "      <td>0.000000</td>\n",
       "      <td>0.000000</td>\n",
       "      <td>0.000000</td>\n",
       "      <td>90.000000</td>\n",
       "      <td>...</td>\n",
       "      <td>8.900000</td>\n",
       "      <td>3.000000</td>\n",
       "      <td>128.000000</td>\n",
       "      <td>3700.000000</td>\n",
       "      <td>7.000000</td>\n",
       "      <td>32.000000</td>\n",
       "      <td>25.000000</td>\n",
       "      <td>15.000000</td>\n",
       "      <td>0.000000</td>\n",
       "      <td>0.000000</td>\n",
       "    </tr>\n",
       "    <tr>\n",
       "      <th>25%</th>\n",
       "      <td>51.000000</td>\n",
       "      <td>65.000000</td>\n",
       "      <td>158.000000</td>\n",
       "      <td>24.514380</td>\n",
       "      <td>0.000000</td>\n",
       "      <td>0.000000</td>\n",
       "      <td>0.000000</td>\n",
       "      <td>0.000000</td>\n",
       "      <td>0.000000</td>\n",
       "      <td>120.000000</td>\n",
       "      <td>...</td>\n",
       "      <td>12.200000</td>\n",
       "      <td>3.900000</td>\n",
       "      <td>139.000000</td>\n",
       "      <td>5800.000000</td>\n",
       "      <td>26.000000</td>\n",
       "      <td>52.500000</td>\n",
       "      <td>183.500000</td>\n",
       "      <td>45.000000</td>\n",
       "      <td>0.000000</td>\n",
       "      <td>0.000000</td>\n",
       "    </tr>\n",
       "    <tr>\n",
       "      <th>50%</th>\n",
       "      <td>58.000000</td>\n",
       "      <td>74.000000</td>\n",
       "      <td>165.000000</td>\n",
       "      <td>26.775510</td>\n",
       "      <td>0.000000</td>\n",
       "      <td>1.000000</td>\n",
       "      <td>0.000000</td>\n",
       "      <td>0.000000</td>\n",
       "      <td>0.000000</td>\n",
       "      <td>130.000000</td>\n",
       "      <td>...</td>\n",
       "      <td>13.200000</td>\n",
       "      <td>4.200000</td>\n",
       "      <td>141.000000</td>\n",
       "      <td>7100.000000</td>\n",
       "      <td>32.000000</td>\n",
       "      <td>60.000000</td>\n",
       "      <td>210.000000</td>\n",
       "      <td>50.000000</td>\n",
       "      <td>0.000000</td>\n",
       "      <td>1.000000</td>\n",
       "    </tr>\n",
       "    <tr>\n",
       "      <th>75%</th>\n",
       "      <td>66.000000</td>\n",
       "      <td>81.000000</td>\n",
       "      <td>171.000000</td>\n",
       "      <td>29.411765</td>\n",
       "      <td>1.000000</td>\n",
       "      <td>1.000000</td>\n",
       "      <td>0.000000</td>\n",
       "      <td>0.000000</td>\n",
       "      <td>0.000000</td>\n",
       "      <td>140.000000</td>\n",
       "      <td>...</td>\n",
       "      <td>14.200000</td>\n",
       "      <td>4.500000</td>\n",
       "      <td>143.000000</td>\n",
       "      <td>8800.000000</td>\n",
       "      <td>39.000000</td>\n",
       "      <td>67.000000</td>\n",
       "      <td>250.000000</td>\n",
       "      <td>55.000000</td>\n",
       "      <td>1.000000</td>\n",
       "      <td>1.000000</td>\n",
       "    </tr>\n",
       "    <tr>\n",
       "      <th>max</th>\n",
       "      <td>86.000000</td>\n",
       "      <td>120.000000</td>\n",
       "      <td>188.000000</td>\n",
       "      <td>40.900658</td>\n",
       "      <td>1.000000</td>\n",
       "      <td>1.000000</td>\n",
       "      <td>1.000000</td>\n",
       "      <td>1.000000</td>\n",
       "      <td>1.000000</td>\n",
       "      <td>190.000000</td>\n",
       "      <td>...</td>\n",
       "      <td>17.600000</td>\n",
       "      <td>6.600000</td>\n",
       "      <td>156.000000</td>\n",
       "      <td>18000.000000</td>\n",
       "      <td>60.000000</td>\n",
       "      <td>89.000000</td>\n",
       "      <td>742.000000</td>\n",
       "      <td>60.000000</td>\n",
       "      <td>4.000000</td>\n",
       "      <td>1.000000</td>\n",
       "    </tr>\n",
       "  </tbody>\n",
       "</table>\n",
       "<p>8 rows × 35 columns</p>\n",
       "</div>"
      ],
      "text/plain": [
       "              Age      Weight      Length         BMI          DM         HTN  \\\n",
       "count  303.000000  303.000000  303.000000  303.000000  303.000000  303.000000   \n",
       "mean    58.897690   73.831683  164.716172   27.248339    0.297030    0.590759   \n",
       "std     10.392278   11.987358    9.327661    4.098865    0.457706    0.492507   \n",
       "min     30.000000   48.000000  140.000000   18.115413    0.000000    0.000000   \n",
       "25%     51.000000   65.000000  158.000000   24.514380    0.000000    0.000000   \n",
       "50%     58.000000   74.000000  165.000000   26.775510    0.000000    1.000000   \n",
       "75%     66.000000   81.000000  171.000000   29.411765    1.000000    1.000000   \n",
       "max     86.000000  120.000000  188.000000   40.900658    1.000000    1.000000   \n",
       "\n",
       "       Current_Smoker   EX-Smoker          FH          BP  ...          HB  \\\n",
       "count      303.000000  303.000000  303.000000  303.000000  ...  303.000000   \n",
       "mean         0.207921    0.033003    0.158416  129.554455  ...   13.153465   \n",
       "std          0.406491    0.178941    0.365734   18.938105  ...    1.610452   \n",
       "min          0.000000    0.000000    0.000000   90.000000  ...    8.900000   \n",
       "25%          0.000000    0.000000    0.000000  120.000000  ...   12.200000   \n",
       "50%          0.000000    0.000000    0.000000  130.000000  ...   13.200000   \n",
       "75%          0.000000    0.000000    0.000000  140.000000  ...   14.200000   \n",
       "max          1.000000    1.000000    1.000000  190.000000  ...   17.600000   \n",
       "\n",
       "                K          Na           WBC       Lymph        Neut  \\\n",
       "count  303.000000  303.000000    303.000000  303.000000  303.000000   \n",
       "mean     4.230693  140.996700   7562.046205   32.399340   60.148515   \n",
       "std      0.458202    3.807885   2413.739323    9.972592   10.182493   \n",
       "min      3.000000  128.000000   3700.000000    7.000000   32.000000   \n",
       "25%      3.900000  139.000000   5800.000000   26.000000   52.500000   \n",
       "50%      4.200000  141.000000   7100.000000   32.000000   60.000000   \n",
       "75%      4.500000  143.000000   8800.000000   39.000000   67.000000   \n",
       "max      6.600000  156.000000  18000.000000   60.000000   89.000000   \n",
       "\n",
       "              PLT      EF-TTE  Region_RWMA        Cath  \n",
       "count  303.000000  303.000000   303.000000  303.000000  \n",
       "mean   221.488449   47.231023     0.620462    0.712871  \n",
       "std     60.796199    8.927194     1.132531    0.453171  \n",
       "min     25.000000   15.000000     0.000000    0.000000  \n",
       "25%    183.500000   45.000000     0.000000    0.000000  \n",
       "50%    210.000000   50.000000     0.000000    1.000000  \n",
       "75%    250.000000   55.000000     1.000000    1.000000  \n",
       "max    742.000000   60.000000     4.000000    1.000000  \n",
       "\n",
       "[8 rows x 35 columns]"
      ]
     },
     "execution_count": 3,
     "metadata": {},
     "output_type": "execute_result"
    }
   ],
   "source": [
    "# Description\n",
    "dataset.describe()"
   ]
  },
  {
   "cell_type": "code",
   "execution_count": 4,
   "metadata": {},
   "outputs": [
    {
     "data": {
      "text/html": [
       "<div>\n",
       "<style scoped>\n",
       "    .dataframe tbody tr th:only-of-type {\n",
       "        vertical-align: middle;\n",
       "    }\n",
       "\n",
       "    .dataframe tbody tr th {\n",
       "        vertical-align: top;\n",
       "    }\n",
       "\n",
       "    .dataframe thead th {\n",
       "        text-align: right;\n",
       "    }\n",
       "</style>\n",
       "<table border=\"1\" class=\"dataframe\">\n",
       "  <thead>\n",
       "    <tr style=\"text-align: right;\">\n",
       "      <th></th>\n",
       "      <th>Age</th>\n",
       "      <th>Weight</th>\n",
       "      <th>Length</th>\n",
       "      <th>Sex</th>\n",
       "      <th>BMI</th>\n",
       "      <th>DM</th>\n",
       "      <th>HTN</th>\n",
       "      <th>Current_Smoker</th>\n",
       "      <th>EX-Smoker</th>\n",
       "      <th>FH</th>\n",
       "      <th>...</th>\n",
       "      <th>K</th>\n",
       "      <th>Na</th>\n",
       "      <th>WBC</th>\n",
       "      <th>Lymph</th>\n",
       "      <th>Neut</th>\n",
       "      <th>PLT</th>\n",
       "      <th>EF-TTE</th>\n",
       "      <th>Region_RWMA</th>\n",
       "      <th>VHD</th>\n",
       "      <th>Cath</th>\n",
       "    </tr>\n",
       "  </thead>\n",
       "  <tbody>\n",
       "    <tr>\n",
       "      <th>0</th>\n",
       "      <td>53</td>\n",
       "      <td>90</td>\n",
       "      <td>175</td>\n",
       "      <td>Male</td>\n",
       "      <td>29.387755</td>\n",
       "      <td>0</td>\n",
       "      <td>1</td>\n",
       "      <td>1</td>\n",
       "      <td>0</td>\n",
       "      <td>0</td>\n",
       "      <td>...</td>\n",
       "      <td>4.7</td>\n",
       "      <td>141</td>\n",
       "      <td>5700</td>\n",
       "      <td>39</td>\n",
       "      <td>52</td>\n",
       "      <td>261</td>\n",
       "      <td>50</td>\n",
       "      <td>0</td>\n",
       "      <td>N</td>\n",
       "      <td>1</td>\n",
       "    </tr>\n",
       "    <tr>\n",
       "      <th>1</th>\n",
       "      <td>67</td>\n",
       "      <td>70</td>\n",
       "      <td>157</td>\n",
       "      <td>Fmale</td>\n",
       "      <td>28.398718</td>\n",
       "      <td>0</td>\n",
       "      <td>1</td>\n",
       "      <td>0</td>\n",
       "      <td>0</td>\n",
       "      <td>0</td>\n",
       "      <td>...</td>\n",
       "      <td>4.7</td>\n",
       "      <td>156</td>\n",
       "      <td>7700</td>\n",
       "      <td>38</td>\n",
       "      <td>55</td>\n",
       "      <td>165</td>\n",
       "      <td>40</td>\n",
       "      <td>4</td>\n",
       "      <td>N</td>\n",
       "      <td>1</td>\n",
       "    </tr>\n",
       "    <tr>\n",
       "      <th>2</th>\n",
       "      <td>54</td>\n",
       "      <td>54</td>\n",
       "      <td>164</td>\n",
       "      <td>Male</td>\n",
       "      <td>20.077335</td>\n",
       "      <td>0</td>\n",
       "      <td>0</td>\n",
       "      <td>1</td>\n",
       "      <td>0</td>\n",
       "      <td>0</td>\n",
       "      <td>...</td>\n",
       "      <td>4.7</td>\n",
       "      <td>139</td>\n",
       "      <td>7400</td>\n",
       "      <td>38</td>\n",
       "      <td>60</td>\n",
       "      <td>230</td>\n",
       "      <td>40</td>\n",
       "      <td>2</td>\n",
       "      <td>mild</td>\n",
       "      <td>1</td>\n",
       "    </tr>\n",
       "    <tr>\n",
       "      <th>3</th>\n",
       "      <td>66</td>\n",
       "      <td>67</td>\n",
       "      <td>158</td>\n",
       "      <td>Fmale</td>\n",
       "      <td>26.838648</td>\n",
       "      <td>0</td>\n",
       "      <td>1</td>\n",
       "      <td>0</td>\n",
       "      <td>0</td>\n",
       "      <td>0</td>\n",
       "      <td>...</td>\n",
       "      <td>4.4</td>\n",
       "      <td>142</td>\n",
       "      <td>13000</td>\n",
       "      <td>18</td>\n",
       "      <td>72</td>\n",
       "      <td>742</td>\n",
       "      <td>55</td>\n",
       "      <td>0</td>\n",
       "      <td>Severe</td>\n",
       "      <td>0</td>\n",
       "    </tr>\n",
       "    <tr>\n",
       "      <th>4</th>\n",
       "      <td>50</td>\n",
       "      <td>87</td>\n",
       "      <td>153</td>\n",
       "      <td>Fmale</td>\n",
       "      <td>37.165193</td>\n",
       "      <td>0</td>\n",
       "      <td>1</td>\n",
       "      <td>0</td>\n",
       "      <td>0</td>\n",
       "      <td>0</td>\n",
       "      <td>...</td>\n",
       "      <td>4.0</td>\n",
       "      <td>140</td>\n",
       "      <td>9200</td>\n",
       "      <td>55</td>\n",
       "      <td>39</td>\n",
       "      <td>274</td>\n",
       "      <td>50</td>\n",
       "      <td>0</td>\n",
       "      <td>Severe</td>\n",
       "      <td>0</td>\n",
       "    </tr>\n",
       "    <tr>\n",
       "      <th>...</th>\n",
       "      <td>...</td>\n",
       "      <td>...</td>\n",
       "      <td>...</td>\n",
       "      <td>...</td>\n",
       "      <td>...</td>\n",
       "      <td>...</td>\n",
       "      <td>...</td>\n",
       "      <td>...</td>\n",
       "      <td>...</td>\n",
       "      <td>...</td>\n",
       "      <td>...</td>\n",
       "      <td>...</td>\n",
       "      <td>...</td>\n",
       "      <td>...</td>\n",
       "      <td>...</td>\n",
       "      <td>...</td>\n",
       "      <td>...</td>\n",
       "      <td>...</td>\n",
       "      <td>...</td>\n",
       "      <td>...</td>\n",
       "      <td>...</td>\n",
       "    </tr>\n",
       "    <tr>\n",
       "      <th>298</th>\n",
       "      <td>58</td>\n",
       "      <td>84</td>\n",
       "      <td>168</td>\n",
       "      <td>Male</td>\n",
       "      <td>29.761905</td>\n",
       "      <td>0</td>\n",
       "      <td>0</td>\n",
       "      <td>0</td>\n",
       "      <td>0</td>\n",
       "      <td>0</td>\n",
       "      <td>...</td>\n",
       "      <td>4.8</td>\n",
       "      <td>146</td>\n",
       "      <td>8500</td>\n",
       "      <td>34</td>\n",
       "      <td>58</td>\n",
       "      <td>251</td>\n",
       "      <td>45</td>\n",
       "      <td>0</td>\n",
       "      <td>N</td>\n",
       "      <td>1</td>\n",
       "    </tr>\n",
       "    <tr>\n",
       "      <th>299</th>\n",
       "      <td>55</td>\n",
       "      <td>64</td>\n",
       "      <td>152</td>\n",
       "      <td>Fmale</td>\n",
       "      <td>27.700831</td>\n",
       "      <td>0</td>\n",
       "      <td>0</td>\n",
       "      <td>0</td>\n",
       "      <td>0</td>\n",
       "      <td>0</td>\n",
       "      <td>...</td>\n",
       "      <td>4.0</td>\n",
       "      <td>139</td>\n",
       "      <td>11400</td>\n",
       "      <td>16</td>\n",
       "      <td>80</td>\n",
       "      <td>377</td>\n",
       "      <td>40</td>\n",
       "      <td>0</td>\n",
       "      <td>mild</td>\n",
       "      <td>0</td>\n",
       "    </tr>\n",
       "    <tr>\n",
       "      <th>300</th>\n",
       "      <td>48</td>\n",
       "      <td>77</td>\n",
       "      <td>160</td>\n",
       "      <td>Fmale</td>\n",
       "      <td>30.078125</td>\n",
       "      <td>0</td>\n",
       "      <td>1</td>\n",
       "      <td>0</td>\n",
       "      <td>0</td>\n",
       "      <td>1</td>\n",
       "      <td>...</td>\n",
       "      <td>4.0</td>\n",
       "      <td>140</td>\n",
       "      <td>9000</td>\n",
       "      <td>35</td>\n",
       "      <td>55</td>\n",
       "      <td>279</td>\n",
       "      <td>55</td>\n",
       "      <td>0</td>\n",
       "      <td>N</td>\n",
       "      <td>0</td>\n",
       "    </tr>\n",
       "    <tr>\n",
       "      <th>301</th>\n",
       "      <td>57</td>\n",
       "      <td>90</td>\n",
       "      <td>159</td>\n",
       "      <td>Fmale</td>\n",
       "      <td>35.599858</td>\n",
       "      <td>1</td>\n",
       "      <td>0</td>\n",
       "      <td>0</td>\n",
       "      <td>0</td>\n",
       "      <td>0</td>\n",
       "      <td>...</td>\n",
       "      <td>3.8</td>\n",
       "      <td>141</td>\n",
       "      <td>3800</td>\n",
       "      <td>48</td>\n",
       "      <td>40</td>\n",
       "      <td>208</td>\n",
       "      <td>55</td>\n",
       "      <td>0</td>\n",
       "      <td>N</td>\n",
       "      <td>0</td>\n",
       "    </tr>\n",
       "    <tr>\n",
       "      <th>302</th>\n",
       "      <td>56</td>\n",
       "      <td>85</td>\n",
       "      <td>170</td>\n",
       "      <td>Fmale</td>\n",
       "      <td>29.411765</td>\n",
       "      <td>0</td>\n",
       "      <td>1</td>\n",
       "      <td>1</td>\n",
       "      <td>0</td>\n",
       "      <td>0</td>\n",
       "      <td>...</td>\n",
       "      <td>4.4</td>\n",
       "      <td>147</td>\n",
       "      <td>6000</td>\n",
       "      <td>32</td>\n",
       "      <td>55</td>\n",
       "      <td>302</td>\n",
       "      <td>55</td>\n",
       "      <td>0</td>\n",
       "      <td>N</td>\n",
       "      <td>1</td>\n",
       "    </tr>\n",
       "  </tbody>\n",
       "</table>\n",
       "<p>303 rows × 56 columns</p>\n",
       "</div>"
      ],
      "text/plain": [
       "     Age  Weight  Length    Sex        BMI  DM  HTN  Current_Smoker  \\\n",
       "0     53      90     175   Male  29.387755   0    1               1   \n",
       "1     67      70     157  Fmale  28.398718   0    1               0   \n",
       "2     54      54     164   Male  20.077335   0    0               1   \n",
       "3     66      67     158  Fmale  26.838648   0    1               0   \n",
       "4     50      87     153  Fmale  37.165193   0    1               0   \n",
       "..   ...     ...     ...    ...        ...  ..  ...             ...   \n",
       "298   58      84     168   Male  29.761905   0    0               0   \n",
       "299   55      64     152  Fmale  27.700831   0    0               0   \n",
       "300   48      77     160  Fmale  30.078125   0    1               0   \n",
       "301   57      90     159  Fmale  35.599858   1    0               0   \n",
       "302   56      85     170  Fmale  29.411765   0    1               1   \n",
       "\n",
       "     EX-Smoker  FH  ...    K   Na    WBC Lymph Neut  PLT EF-TTE  Region_RWMA  \\\n",
       "0            0   0  ...  4.7  141   5700    39   52  261     50            0   \n",
       "1            0   0  ...  4.7  156   7700    38   55  165     40            4   \n",
       "2            0   0  ...  4.7  139   7400    38   60  230     40            2   \n",
       "3            0   0  ...  4.4  142  13000    18   72  742     55            0   \n",
       "4            0   0  ...  4.0  140   9200    55   39  274     50            0   \n",
       "..         ...  ..  ...  ...  ...    ...   ...  ...  ...    ...          ...   \n",
       "298          0   0  ...  4.8  146   8500    34   58  251     45            0   \n",
       "299          0   0  ...  4.0  139  11400    16   80  377     40            0   \n",
       "300          0   1  ...  4.0  140   9000    35   55  279     55            0   \n",
       "301          0   0  ...  3.8  141   3800    48   40  208     55            0   \n",
       "302          0   0  ...  4.4  147   6000    32   55  302     55            0   \n",
       "\n",
       "        VHD  Cath  \n",
       "0         N     1  \n",
       "1         N     1  \n",
       "2      mild     1  \n",
       "3    Severe     0  \n",
       "4    Severe     0  \n",
       "..      ...   ...  \n",
       "298       N     1  \n",
       "299    mild     0  \n",
       "300       N     0  \n",
       "301       N     0  \n",
       "302       N     1  \n",
       "\n",
       "[303 rows x 56 columns]"
      ]
     },
     "execution_count": 4,
     "metadata": {},
     "output_type": "execute_result"
    }
   ],
   "source": [
    "dataset"
   ]
  },
  {
   "cell_type": "code",
   "execution_count": 5,
   "metadata": {},
   "outputs": [
    {
     "data": {
      "text/plain": [
       "pandas.core.frame.DataFrame"
      ]
     },
     "execution_count": 5,
     "metadata": {},
     "output_type": "execute_result"
    }
   ],
   "source": [
    "# Verifying it as a 'dataframe' object in pandas\n",
    "type(dataset)"
   ]
  },
  {
   "cell_type": "code",
   "execution_count": 6,
   "metadata": {},
   "outputs": [
    {
     "data": {
      "text/plain": [
       "(303, 56)"
      ]
     },
     "execution_count": 6,
     "metadata": {},
     "output_type": "execute_result"
    }
   ],
   "source": [
    "# Shape of dataset\n",
    "dataset.shape"
   ]
  },
  {
   "cell_type": "markdown",
   "metadata": {},
   "source": [
    "## Looking For Missing Values(if any) "
   ]
  },
  {
   "cell_type": "code",
   "execution_count": 7,
   "metadata": {},
   "outputs": [
    {
     "data": {
      "text/html": [
       "<div>\n",
       "<style scoped>\n",
       "    .dataframe tbody tr th:only-of-type {\n",
       "        vertical-align: middle;\n",
       "    }\n",
       "\n",
       "    .dataframe tbody tr th {\n",
       "        vertical-align: top;\n",
       "    }\n",
       "\n",
       "    .dataframe thead th {\n",
       "        text-align: right;\n",
       "    }\n",
       "</style>\n",
       "<table border=\"1\" class=\"dataframe\">\n",
       "  <thead>\n",
       "    <tr style=\"text-align: right;\">\n",
       "      <th></th>\n",
       "      <th>Age</th>\n",
       "      <th>Weight</th>\n",
       "      <th>Length</th>\n",
       "      <th>Sex</th>\n",
       "      <th>BMI</th>\n",
       "      <th>DM</th>\n",
       "      <th>HTN</th>\n",
       "      <th>Current_Smoker</th>\n",
       "      <th>EX-Smoker</th>\n",
       "      <th>FH</th>\n",
       "      <th>...</th>\n",
       "      <th>K</th>\n",
       "      <th>Na</th>\n",
       "      <th>WBC</th>\n",
       "      <th>Lymph</th>\n",
       "      <th>Neut</th>\n",
       "      <th>PLT</th>\n",
       "      <th>EF-TTE</th>\n",
       "      <th>Region_RWMA</th>\n",
       "      <th>VHD</th>\n",
       "      <th>Cath</th>\n",
       "    </tr>\n",
       "  </thead>\n",
       "  <tbody>\n",
       "    <tr>\n",
       "      <th>0</th>\n",
       "      <td>False</td>\n",
       "      <td>False</td>\n",
       "      <td>False</td>\n",
       "      <td>False</td>\n",
       "      <td>False</td>\n",
       "      <td>False</td>\n",
       "      <td>False</td>\n",
       "      <td>False</td>\n",
       "      <td>False</td>\n",
       "      <td>False</td>\n",
       "      <td>...</td>\n",
       "      <td>False</td>\n",
       "      <td>False</td>\n",
       "      <td>False</td>\n",
       "      <td>False</td>\n",
       "      <td>False</td>\n",
       "      <td>False</td>\n",
       "      <td>False</td>\n",
       "      <td>False</td>\n",
       "      <td>False</td>\n",
       "      <td>False</td>\n",
       "    </tr>\n",
       "    <tr>\n",
       "      <th>1</th>\n",
       "      <td>False</td>\n",
       "      <td>False</td>\n",
       "      <td>False</td>\n",
       "      <td>False</td>\n",
       "      <td>False</td>\n",
       "      <td>False</td>\n",
       "      <td>False</td>\n",
       "      <td>False</td>\n",
       "      <td>False</td>\n",
       "      <td>False</td>\n",
       "      <td>...</td>\n",
       "      <td>False</td>\n",
       "      <td>False</td>\n",
       "      <td>False</td>\n",
       "      <td>False</td>\n",
       "      <td>False</td>\n",
       "      <td>False</td>\n",
       "      <td>False</td>\n",
       "      <td>False</td>\n",
       "      <td>False</td>\n",
       "      <td>False</td>\n",
       "    </tr>\n",
       "    <tr>\n",
       "      <th>2</th>\n",
       "      <td>False</td>\n",
       "      <td>False</td>\n",
       "      <td>False</td>\n",
       "      <td>False</td>\n",
       "      <td>False</td>\n",
       "      <td>False</td>\n",
       "      <td>False</td>\n",
       "      <td>False</td>\n",
       "      <td>False</td>\n",
       "      <td>False</td>\n",
       "      <td>...</td>\n",
       "      <td>False</td>\n",
       "      <td>False</td>\n",
       "      <td>False</td>\n",
       "      <td>False</td>\n",
       "      <td>False</td>\n",
       "      <td>False</td>\n",
       "      <td>False</td>\n",
       "      <td>False</td>\n",
       "      <td>False</td>\n",
       "      <td>False</td>\n",
       "    </tr>\n",
       "    <tr>\n",
       "      <th>3</th>\n",
       "      <td>False</td>\n",
       "      <td>False</td>\n",
       "      <td>False</td>\n",
       "      <td>False</td>\n",
       "      <td>False</td>\n",
       "      <td>False</td>\n",
       "      <td>False</td>\n",
       "      <td>False</td>\n",
       "      <td>False</td>\n",
       "      <td>False</td>\n",
       "      <td>...</td>\n",
       "      <td>False</td>\n",
       "      <td>False</td>\n",
       "      <td>False</td>\n",
       "      <td>False</td>\n",
       "      <td>False</td>\n",
       "      <td>False</td>\n",
       "      <td>False</td>\n",
       "      <td>False</td>\n",
       "      <td>False</td>\n",
       "      <td>False</td>\n",
       "    </tr>\n",
       "    <tr>\n",
       "      <th>4</th>\n",
       "      <td>False</td>\n",
       "      <td>False</td>\n",
       "      <td>False</td>\n",
       "      <td>False</td>\n",
       "      <td>False</td>\n",
       "      <td>False</td>\n",
       "      <td>False</td>\n",
       "      <td>False</td>\n",
       "      <td>False</td>\n",
       "      <td>False</td>\n",
       "      <td>...</td>\n",
       "      <td>False</td>\n",
       "      <td>False</td>\n",
       "      <td>False</td>\n",
       "      <td>False</td>\n",
       "      <td>False</td>\n",
       "      <td>False</td>\n",
       "      <td>False</td>\n",
       "      <td>False</td>\n",
       "      <td>False</td>\n",
       "      <td>False</td>\n",
       "    </tr>\n",
       "    <tr>\n",
       "      <th>...</th>\n",
       "      <td>...</td>\n",
       "      <td>...</td>\n",
       "      <td>...</td>\n",
       "      <td>...</td>\n",
       "      <td>...</td>\n",
       "      <td>...</td>\n",
       "      <td>...</td>\n",
       "      <td>...</td>\n",
       "      <td>...</td>\n",
       "      <td>...</td>\n",
       "      <td>...</td>\n",
       "      <td>...</td>\n",
       "      <td>...</td>\n",
       "      <td>...</td>\n",
       "      <td>...</td>\n",
       "      <td>...</td>\n",
       "      <td>...</td>\n",
       "      <td>...</td>\n",
       "      <td>...</td>\n",
       "      <td>...</td>\n",
       "      <td>...</td>\n",
       "    </tr>\n",
       "    <tr>\n",
       "      <th>298</th>\n",
       "      <td>False</td>\n",
       "      <td>False</td>\n",
       "      <td>False</td>\n",
       "      <td>False</td>\n",
       "      <td>False</td>\n",
       "      <td>False</td>\n",
       "      <td>False</td>\n",
       "      <td>False</td>\n",
       "      <td>False</td>\n",
       "      <td>False</td>\n",
       "      <td>...</td>\n",
       "      <td>False</td>\n",
       "      <td>False</td>\n",
       "      <td>False</td>\n",
       "      <td>False</td>\n",
       "      <td>False</td>\n",
       "      <td>False</td>\n",
       "      <td>False</td>\n",
       "      <td>False</td>\n",
       "      <td>False</td>\n",
       "      <td>False</td>\n",
       "    </tr>\n",
       "    <tr>\n",
       "      <th>299</th>\n",
       "      <td>False</td>\n",
       "      <td>False</td>\n",
       "      <td>False</td>\n",
       "      <td>False</td>\n",
       "      <td>False</td>\n",
       "      <td>False</td>\n",
       "      <td>False</td>\n",
       "      <td>False</td>\n",
       "      <td>False</td>\n",
       "      <td>False</td>\n",
       "      <td>...</td>\n",
       "      <td>False</td>\n",
       "      <td>False</td>\n",
       "      <td>False</td>\n",
       "      <td>False</td>\n",
       "      <td>False</td>\n",
       "      <td>False</td>\n",
       "      <td>False</td>\n",
       "      <td>False</td>\n",
       "      <td>False</td>\n",
       "      <td>False</td>\n",
       "    </tr>\n",
       "    <tr>\n",
       "      <th>300</th>\n",
       "      <td>False</td>\n",
       "      <td>False</td>\n",
       "      <td>False</td>\n",
       "      <td>False</td>\n",
       "      <td>False</td>\n",
       "      <td>False</td>\n",
       "      <td>False</td>\n",
       "      <td>False</td>\n",
       "      <td>False</td>\n",
       "      <td>False</td>\n",
       "      <td>...</td>\n",
       "      <td>False</td>\n",
       "      <td>False</td>\n",
       "      <td>False</td>\n",
       "      <td>False</td>\n",
       "      <td>False</td>\n",
       "      <td>False</td>\n",
       "      <td>False</td>\n",
       "      <td>False</td>\n",
       "      <td>False</td>\n",
       "      <td>False</td>\n",
       "    </tr>\n",
       "    <tr>\n",
       "      <th>301</th>\n",
       "      <td>False</td>\n",
       "      <td>False</td>\n",
       "      <td>False</td>\n",
       "      <td>False</td>\n",
       "      <td>False</td>\n",
       "      <td>False</td>\n",
       "      <td>False</td>\n",
       "      <td>False</td>\n",
       "      <td>False</td>\n",
       "      <td>False</td>\n",
       "      <td>...</td>\n",
       "      <td>False</td>\n",
       "      <td>False</td>\n",
       "      <td>False</td>\n",
       "      <td>False</td>\n",
       "      <td>False</td>\n",
       "      <td>False</td>\n",
       "      <td>False</td>\n",
       "      <td>False</td>\n",
       "      <td>False</td>\n",
       "      <td>False</td>\n",
       "    </tr>\n",
       "    <tr>\n",
       "      <th>302</th>\n",
       "      <td>False</td>\n",
       "      <td>False</td>\n",
       "      <td>False</td>\n",
       "      <td>False</td>\n",
       "      <td>False</td>\n",
       "      <td>False</td>\n",
       "      <td>False</td>\n",
       "      <td>False</td>\n",
       "      <td>False</td>\n",
       "      <td>False</td>\n",
       "      <td>...</td>\n",
       "      <td>False</td>\n",
       "      <td>False</td>\n",
       "      <td>False</td>\n",
       "      <td>False</td>\n",
       "      <td>False</td>\n",
       "      <td>False</td>\n",
       "      <td>False</td>\n",
       "      <td>False</td>\n",
       "      <td>False</td>\n",
       "      <td>False</td>\n",
       "    </tr>\n",
       "  </tbody>\n",
       "</table>\n",
       "<p>303 rows × 56 columns</p>\n",
       "</div>"
      ],
      "text/plain": [
       "       Age  Weight  Length    Sex    BMI     DM    HTN  Current_Smoker  \\\n",
       "0    False   False   False  False  False  False  False           False   \n",
       "1    False   False   False  False  False  False  False           False   \n",
       "2    False   False   False  False  False  False  False           False   \n",
       "3    False   False   False  False  False  False  False           False   \n",
       "4    False   False   False  False  False  False  False           False   \n",
       "..     ...     ...     ...    ...    ...    ...    ...             ...   \n",
       "298  False   False   False  False  False  False  False           False   \n",
       "299  False   False   False  False  False  False  False           False   \n",
       "300  False   False   False  False  False  False  False           False   \n",
       "301  False   False   False  False  False  False  False           False   \n",
       "302  False   False   False  False  False  False  False           False   \n",
       "\n",
       "     EX-Smoker     FH  ...      K     Na    WBC  Lymph   Neut    PLT  EF-TTE  \\\n",
       "0        False  False  ...  False  False  False  False  False  False   False   \n",
       "1        False  False  ...  False  False  False  False  False  False   False   \n",
       "2        False  False  ...  False  False  False  False  False  False   False   \n",
       "3        False  False  ...  False  False  False  False  False  False   False   \n",
       "4        False  False  ...  False  False  False  False  False  False   False   \n",
       "..         ...    ...  ...    ...    ...    ...    ...    ...    ...     ...   \n",
       "298      False  False  ...  False  False  False  False  False  False   False   \n",
       "299      False  False  ...  False  False  False  False  False  False   False   \n",
       "300      False  False  ...  False  False  False  False  False  False   False   \n",
       "301      False  False  ...  False  False  False  False  False  False   False   \n",
       "302      False  False  ...  False  False  False  False  False  False   False   \n",
       "\n",
       "     Region_RWMA    VHD   Cath  \n",
       "0          False  False  False  \n",
       "1          False  False  False  \n",
       "2          False  False  False  \n",
       "3          False  False  False  \n",
       "4          False  False  False  \n",
       "..           ...    ...    ...  \n",
       "298        False  False  False  \n",
       "299        False  False  False  \n",
       "300        False  False  False  \n",
       "301        False  False  False  \n",
       "302        False  False  False  \n",
       "\n",
       "[303 rows x 56 columns]"
      ]
     },
     "execution_count": 7,
     "metadata": {},
     "output_type": "execute_result"
    }
   ],
   "source": [
    "dataset.isnull()"
   ]
  },
  {
   "cell_type": "code",
   "execution_count": 8,
   "metadata": {},
   "outputs": [],
   "source": [
    "# No Missing values"
   ]
  },
  {
   "cell_type": "code",
   "execution_count": 9,
   "metadata": {},
   "outputs": [
    {
     "data": {
      "text/plain": [
       "count    303.000000\n",
       "mean       0.712871\n",
       "std        0.453171\n",
       "min        0.000000\n",
       "25%        0.000000\n",
       "50%        1.000000\n",
       "75%        1.000000\n",
       "max        1.000000\n",
       "Name: Cath, dtype: float64"
      ]
     },
     "execution_count": 9,
     "metadata": {},
     "output_type": "execute_result"
    }
   ],
   "source": [
    "# Target variable description\n",
    "dataset[\"Cath\"].describe()"
   ]
  },
  {
   "cell_type": "code",
   "execution_count": 10,
   "metadata": {},
   "outputs": [
    {
     "data": {
      "text/plain": [
       "array([1, 0])"
      ]
     },
     "execution_count": 10,
     "metadata": {},
     "output_type": "execute_result"
    }
   ],
   "source": [
    "dataset[\"Cath\"].unique()"
   ]
  },
  {
   "cell_type": "markdown",
   "metadata": {},
   "source": [
    "### Clearly, this is a classification problem, with the target variable having values 'Cad' and 'Normal'"
   ]
  },
  {
   "cell_type": "markdown",
   "metadata": {},
   "source": [
    "## Checking Coorelation Between Dataset"
   ]
  },
  {
   "cell_type": "code",
   "execution_count": 11,
   "metadata": {},
   "outputs": [
    {
     "data": {
      "image/png": "[encoded data removed]",
      "text/plain": [
       "<Figure size 1440x1440 with 2 Axes>"
      ]
     },
     "metadata": {
      "needs_background": "light"
     },
     "output_type": "display_data"
    }
   ],
   "source": [
    "#Feature Selection\n",
    "import seaborn as sns\n",
    "#get correlations of each features in dataset\n",
    "corrmat = dataset.corr()\n",
    "top_corr_features = corrmat.index\n",
    "plt.figure(figsize=(20,20))\n",
    "#plot heat map\n",
    "g=sns.heatmap(dataset[top_corr_features].corr(),annot=True,cmap=\"RdYlGn\",annot_kws={\"size\":8}) "
   ]
  },
  {
   "cell_type": "markdown",
   "metadata": {},
   "source": [
    "## Analysing Target Variable"
   ]
  },
  {
   "cell_type": "code",
   "execution_count": 12,
   "metadata": {},
   "outputs": [
    {
     "name": "stdout",
     "output_type": "stream",
     "text": [
      "1    216\n",
      "0     87\n",
      "Name: Cath, dtype: int64\n"
     ]
    },
    {
     "data": {
      "image/png": "[encoded data removed]",
      "text/plain": [
       "<Figure size 432x288 with 1 Axes>"
      ]
     },
     "metadata": {
      "needs_background": "light"
     },
     "output_type": "display_data"
    }
   ],
   "source": [
    "y = dataset[\"Cath\"]\n",
    "\n",
    "sns.countplot(y)\n",
    "\n",
    "target_temp = dataset.Cath.value_counts()\n",
    "\n",
    "print(target_temp)"
   ]
  },
  {
   "cell_type": "code",
   "execution_count": 13,
   "metadata": {},
   "outputs": [
    {
     "name": "stdout",
     "output_type": "stream",
     "text": [
      "Percentage of patience without heart problems: 28.71\n",
      "Percentage of patience with heart problems: 71.29\n"
     ]
    }
   ],
   "source": [
    "print(\"Percentage of patience without heart problems: \"+str(round(target_temp[0]*100/303,2)))\n",
    "print(\"Percentage of patience with heart problems: \"+str(round(target_temp[1]*100/303,2)))"
   ]
  },
  {
   "cell_type": "code",
   "execution_count": 14,
   "metadata": {},
   "outputs": [],
   "source": [
    "y = dataset['Cath']\n",
    "X = dataset.drop(['Cath'], axis = 1)"
   ]
  },
  {
   "cell_type": "code",
   "execution_count": 15,
   "metadata": {},
   "outputs": [],
   "source": [
    "# converting categorical data into dummy or indicator variables\n",
    "dataset = pd.get_dummies(dataset, columns = ['Sex','Obesity','CRF','CVA','Airway_disease','Thyroid_Disease','CHF','DLP','Weak_Peripheral_Pulse','Lung_rales','Systolic_Murmur','Diastolic_Murmur','Dyspnea','Atypical', 'Nonanginal', 'Exertional_CP', 'LowTH_Ang', 'LVH', 'Poor_R_Progression', 'BBB', 'VHD']) "
   ]
  },
  {
   "cell_type": "code",
   "execution_count": 16,
   "metadata": {},
   "outputs": [
    {
     "data": {
      "text/plain": [
       "(303, 79)"
      ]
     },
     "execution_count": 16,
     "metadata": {},
     "output_type": "execute_result"
    }
   ],
   "source": [
    "dataset.shape"
   ]
  },
  {
   "cell_type": "code",
   "execution_count": 17,
   "metadata": {},
   "outputs": [
    {
     "data": {
      "text/html": [
       "<div>\n",
       "<style scoped>\n",
       "    .dataframe tbody tr th:only-of-type {\n",
       "        vertical-align: middle;\n",
       "    }\n",
       "\n",
       "    .dataframe tbody tr th {\n",
       "        vertical-align: top;\n",
       "    }\n",
       "\n",
       "    .dataframe thead th {\n",
       "        text-align: right;\n",
       "    }\n",
       "</style>\n",
       "<table border=\"1\" class=\"dataframe\">\n",
       "  <thead>\n",
       "    <tr style=\"text-align: right;\">\n",
       "      <th></th>\n",
       "      <th>Age</th>\n",
       "      <th>Weight</th>\n",
       "      <th>Length</th>\n",
       "      <th>BMI</th>\n",
       "      <th>DM</th>\n",
       "      <th>HTN</th>\n",
       "      <th>Current_Smoker</th>\n",
       "      <th>EX-Smoker</th>\n",
       "      <th>FH</th>\n",
       "      <th>BP</th>\n",
       "      <th>...</th>\n",
       "      <th>LVH_Y</th>\n",
       "      <th>Poor_R_Progression_N</th>\n",
       "      <th>Poor_R_Progression_Y</th>\n",
       "      <th>BBB_LBBB</th>\n",
       "      <th>BBB_N</th>\n",
       "      <th>BBB_RBBB</th>\n",
       "      <th>VHD_Moderate</th>\n",
       "      <th>VHD_N</th>\n",
       "      <th>VHD_Severe</th>\n",
       "      <th>VHD_mild</th>\n",
       "    </tr>\n",
       "  </thead>\n",
       "  <tbody>\n",
       "    <tr>\n",
       "      <th>0</th>\n",
       "      <td>53</td>\n",
       "      <td>90</td>\n",
       "      <td>175</td>\n",
       "      <td>29.387755</td>\n",
       "      <td>0</td>\n",
       "      <td>1</td>\n",
       "      <td>1</td>\n",
       "      <td>0</td>\n",
       "      <td>0</td>\n",
       "      <td>110</td>\n",
       "      <td>...</td>\n",
       "      <td>0</td>\n",
       "      <td>1</td>\n",
       "      <td>0</td>\n",
       "      <td>0</td>\n",
       "      <td>1</td>\n",
       "      <td>0</td>\n",
       "      <td>0</td>\n",
       "      <td>1</td>\n",
       "      <td>0</td>\n",
       "      <td>0</td>\n",
       "    </tr>\n",
       "    <tr>\n",
       "      <th>1</th>\n",
       "      <td>67</td>\n",
       "      <td>70</td>\n",
       "      <td>157</td>\n",
       "      <td>28.398718</td>\n",
       "      <td>0</td>\n",
       "      <td>1</td>\n",
       "      <td>0</td>\n",
       "      <td>0</td>\n",
       "      <td>0</td>\n",
       "      <td>140</td>\n",
       "      <td>...</td>\n",
       "      <td>0</td>\n",
       "      <td>1</td>\n",
       "      <td>0</td>\n",
       "      <td>0</td>\n",
       "      <td>1</td>\n",
       "      <td>0</td>\n",
       "      <td>0</td>\n",
       "      <td>1</td>\n",
       "      <td>0</td>\n",
       "      <td>0</td>\n",
       "    </tr>\n",
       "    <tr>\n",
       "      <th>2</th>\n",
       "      <td>54</td>\n",
       "      <td>54</td>\n",
       "      <td>164</td>\n",
       "      <td>20.077335</td>\n",
       "      <td>0</td>\n",
       "      <td>0</td>\n",
       "      <td>1</td>\n",
       "      <td>0</td>\n",
       "      <td>0</td>\n",
       "      <td>100</td>\n",
       "      <td>...</td>\n",
       "      <td>0</td>\n",
       "      <td>1</td>\n",
       "      <td>0</td>\n",
       "      <td>0</td>\n",
       "      <td>1</td>\n",
       "      <td>0</td>\n",
       "      <td>0</td>\n",
       "      <td>0</td>\n",
       "      <td>0</td>\n",
       "      <td>1</td>\n",
       "    </tr>\n",
       "    <tr>\n",
       "      <th>3</th>\n",
       "      <td>66</td>\n",
       "      <td>67</td>\n",
       "      <td>158</td>\n",
       "      <td>26.838648</td>\n",
       "      <td>0</td>\n",
       "      <td>1</td>\n",
       "      <td>0</td>\n",
       "      <td>0</td>\n",
       "      <td>0</td>\n",
       "      <td>100</td>\n",
       "      <td>...</td>\n",
       "      <td>0</td>\n",
       "      <td>1</td>\n",
       "      <td>0</td>\n",
       "      <td>0</td>\n",
       "      <td>1</td>\n",
       "      <td>0</td>\n",
       "      <td>0</td>\n",
       "      <td>0</td>\n",
       "      <td>1</td>\n",
       "      <td>0</td>\n",
       "    </tr>\n",
       "    <tr>\n",
       "      <th>4</th>\n",
       "      <td>50</td>\n",
       "      <td>87</td>\n",
       "      <td>153</td>\n",
       "      <td>37.165193</td>\n",
       "      <td>0</td>\n",
       "      <td>1</td>\n",
       "      <td>0</td>\n",
       "      <td>0</td>\n",
       "      <td>0</td>\n",
       "      <td>110</td>\n",
       "      <td>...</td>\n",
       "      <td>0</td>\n",
       "      <td>1</td>\n",
       "      <td>0</td>\n",
       "      <td>0</td>\n",
       "      <td>1</td>\n",
       "      <td>0</td>\n",
       "      <td>0</td>\n",
       "      <td>0</td>\n",
       "      <td>1</td>\n",
       "      <td>0</td>\n",
       "    </tr>\n",
       "    <tr>\n",
       "      <th>...</th>\n",
       "      <td>...</td>\n",
       "      <td>...</td>\n",
       "      <td>...</td>\n",
       "      <td>...</td>\n",
       "      <td>...</td>\n",
       "      <td>...</td>\n",
       "      <td>...</td>\n",
       "      <td>...</td>\n",
       "      <td>...</td>\n",
       "      <td>...</td>\n",
       "      <td>...</td>\n",
       "      <td>...</td>\n",
       "      <td>...</td>\n",
       "      <td>...</td>\n",
       "      <td>...</td>\n",
       "      <td>...</td>\n",
       "      <td>...</td>\n",
       "      <td>...</td>\n",
       "      <td>...</td>\n",
       "      <td>...</td>\n",
       "      <td>...</td>\n",
       "    </tr>\n",
       "    <tr>\n",
       "      <th>298</th>\n",
       "      <td>58</td>\n",
       "      <td>84</td>\n",
       "      <td>168</td>\n",
       "      <td>29.761905</td>\n",
       "      <td>0</td>\n",
       "      <td>0</td>\n",
       "      <td>0</td>\n",
       "      <td>0</td>\n",
       "      <td>0</td>\n",
       "      <td>100</td>\n",
       "      <td>...</td>\n",
       "      <td>0</td>\n",
       "      <td>1</td>\n",
       "      <td>0</td>\n",
       "      <td>0</td>\n",
       "      <td>1</td>\n",
       "      <td>0</td>\n",
       "      <td>0</td>\n",
       "      <td>1</td>\n",
       "      <td>0</td>\n",
       "      <td>0</td>\n",
       "    </tr>\n",
       "    <tr>\n",
       "      <th>299</th>\n",
       "      <td>55</td>\n",
       "      <td>64</td>\n",
       "      <td>152</td>\n",
       "      <td>27.700831</td>\n",
       "      <td>0</td>\n",
       "      <td>0</td>\n",
       "      <td>0</td>\n",
       "      <td>0</td>\n",
       "      <td>0</td>\n",
       "      <td>100</td>\n",
       "      <td>...</td>\n",
       "      <td>0</td>\n",
       "      <td>1</td>\n",
       "      <td>0</td>\n",
       "      <td>1</td>\n",
       "      <td>0</td>\n",
       "      <td>0</td>\n",
       "      <td>0</td>\n",
       "      <td>0</td>\n",
       "      <td>0</td>\n",
       "      <td>1</td>\n",
       "    </tr>\n",
       "    <tr>\n",
       "      <th>300</th>\n",
       "      <td>48</td>\n",
       "      <td>77</td>\n",
       "      <td>160</td>\n",
       "      <td>30.078125</td>\n",
       "      <td>0</td>\n",
       "      <td>1</td>\n",
       "      <td>0</td>\n",
       "      <td>0</td>\n",
       "      <td>1</td>\n",
       "      <td>130</td>\n",
       "      <td>...</td>\n",
       "      <td>0</td>\n",
       "      <td>1</td>\n",
       "      <td>0</td>\n",
       "      <td>0</td>\n",
       "      <td>0</td>\n",
       "      <td>1</td>\n",
       "      <td>0</td>\n",
       "      <td>1</td>\n",
       "      <td>0</td>\n",
       "      <td>0</td>\n",
       "    </tr>\n",
       "    <tr>\n",
       "      <th>301</th>\n",
       "      <td>57</td>\n",
       "      <td>90</td>\n",
       "      <td>159</td>\n",
       "      <td>35.599858</td>\n",
       "      <td>1</td>\n",
       "      <td>0</td>\n",
       "      <td>0</td>\n",
       "      <td>0</td>\n",
       "      <td>0</td>\n",
       "      <td>100</td>\n",
       "      <td>...</td>\n",
       "      <td>0</td>\n",
       "      <td>1</td>\n",
       "      <td>0</td>\n",
       "      <td>0</td>\n",
       "      <td>1</td>\n",
       "      <td>0</td>\n",
       "      <td>0</td>\n",
       "      <td>1</td>\n",
       "      <td>0</td>\n",
       "      <td>0</td>\n",
       "    </tr>\n",
       "    <tr>\n",
       "      <th>302</th>\n",
       "      <td>56</td>\n",
       "      <td>85</td>\n",
       "      <td>170</td>\n",
       "      <td>29.411765</td>\n",
       "      <td>0</td>\n",
       "      <td>1</td>\n",
       "      <td>1</td>\n",
       "      <td>0</td>\n",
       "      <td>0</td>\n",
       "      <td>120</td>\n",
       "      <td>...</td>\n",
       "      <td>0</td>\n",
       "      <td>1</td>\n",
       "      <td>0</td>\n",
       "      <td>0</td>\n",
       "      <td>1</td>\n",
       "      <td>0</td>\n",
       "      <td>0</td>\n",
       "      <td>1</td>\n",
       "      <td>0</td>\n",
       "      <td>0</td>\n",
       "    </tr>\n",
       "  </tbody>\n",
       "</table>\n",
       "<p>303 rows × 79 columns</p>\n",
       "</div>"
      ],
      "text/plain": [
       "     Age  Weight  Length        BMI  DM  HTN  Current_Smoker  EX-Smoker  FH  \\\n",
       "0     53      90     175  29.387755   0    1               1          0   0   \n",
       "1     67      70     157  28.398718   0    1               0          0   0   \n",
       "2     54      54     164  20.077335   0    0               1          0   0   \n",
       "3     66      67     158  26.838648   0    1               0          0   0   \n",
       "4     50      87     153  37.165193   0    1               0          0   0   \n",
       "..   ...     ...     ...        ...  ..  ...             ...        ...  ..   \n",
       "298   58      84     168  29.761905   0    0               0          0   0   \n",
       "299   55      64     152  27.700831   0    0               0          0   0   \n",
       "300   48      77     160  30.078125   0    1               0          0   1   \n",
       "301   57      90     159  35.599858   1    0               0          0   0   \n",
       "302   56      85     170  29.411765   0    1               1          0   0   \n",
       "\n",
       "      BP  ...  LVH_Y  Poor_R_Progression_N  Poor_R_Progression_Y  BBB_LBBB  \\\n",
       "0    110  ...      0                     1                     0         0   \n",
       "1    140  ...      0                     1                     0         0   \n",
       "2    100  ...      0                     1                     0         0   \n",
       "3    100  ...      0                     1                     0         0   \n",
       "4    110  ...      0                     1                     0         0   \n",
       "..   ...  ...    ...                   ...                   ...       ...   \n",
       "298  100  ...      0                     1                     0         0   \n",
       "299  100  ...      0                     1                     0         1   \n",
       "300  130  ...      0                     1                     0         0   \n",
       "301  100  ...      0                     1                     0         0   \n",
       "302  120  ...      0                     1                     0         0   \n",
       "\n",
       "     BBB_N  BBB_RBBB  VHD_Moderate  VHD_N  VHD_Severe  VHD_mild  \n",
       "0        1         0             0      1           0         0  \n",
       "1        1         0             0      1           0         0  \n",
       "2        1         0             0      0           0         1  \n",
       "3        1         0             0      0           1         0  \n",
       "4        1         0             0      0           1         0  \n",
       "..     ...       ...           ...    ...         ...       ...  \n",
       "298      1         0             0      1           0         0  \n",
       "299      0         0             0      0           0         1  \n",
       "300      0         1             0      1           0         0  \n",
       "301      1         0             0      1           0         0  \n",
       "302      1         0             0      1           0         0  \n",
       "\n",
       "[303 rows x 79 columns]"
      ]
     },
     "execution_count": 17,
     "metadata": {},
     "output_type": "execute_result"
    }
   ],
   "source": [
    "dataset"
   ]
  },
  {
   "cell_type": "markdown",
   "metadata": {},
   "source": [
    "## Train Test split"
   ]
  },
  {
   "cell_type": "code",
   "execution_count": 18,
   "metadata": {},
   "outputs": [
    {
     "data": {
      "text/plain": [
       "((272, 78), (272,), (31, 78), (31,))"
      ]
     },
     "execution_count": 18,
     "metadata": {},
     "output_type": "execute_result"
    }
   ],
   "source": [
    "from sklearn.model_selection import train_test_split\n",
    "\n",
    "predictors = dataset.drop(\"Cath\",axis=1)\n",
    "target = dataset[\"Cath\"]\n",
    "\n",
    "X_train,X_test,Y_train,Y_test = train_test_split(predictors,target,test_size=0.10,random_state=0)\n",
    "X_train.shape, Y_train.shape, X_test.shape, Y_test.shape"
   ]
  },
  {
   "cell_type": "markdown",
   "metadata": {},
   "source": [
    "### Remove constant features"
   ]
  },
  {
   "cell_type": "code",
   "execution_count": 19,
   "metadata": {},
   "outputs": [
    {
     "data": {
      "text/plain": [
       "((272, 77), (31, 77))"
      ]
     },
     "execution_count": 19,
     "metadata": {},
     "output_type": "execute_result"
    }
   ],
   "source": [
    "# remove constant features\n",
    "constant_features = [\n",
    "    feat for feat in X_train.columns if X_train[feat].std() == 0\n",
    "]\n",
    "\n",
    "X_train.drop(labels=constant_features, axis=1, inplace=True)\n",
    "X_test.drop(labels=constant_features, axis=1, inplace=True)\n",
    "\n",
    "X_train.shape, X_test.shape"
   ]
  },
  {
   "cell_type": "markdown",
   "metadata": {},
   "source": [
    "### Remove quasi-constant features"
   ]
  },
  {
   "cell_type": "code",
   "execution_count": 20,
   "metadata": {},
   "outputs": [
    {
     "data": {
      "text/plain": [
       "73"
      ]
     },
     "execution_count": 20,
     "metadata": {},
     "output_type": "execute_result"
    }
   ],
   "source": [
    "from sklearn.feature_selection import VarianceThreshold\n",
    "# remove quasi-constant features\n",
    "# 0.1 indicates 99% of observations approximately\n",
    "sel = VarianceThreshold(threshold=0.01)  \n",
    "# fit finds the features with low variance\n",
    "sel.fit(X_train)  \n",
    "# how many not quasi-constant?\n",
    "sum(sel.get_support())"
   ]
  },
  {
   "cell_type": "code",
   "execution_count": 21,
   "metadata": {},
   "outputs": [],
   "source": [
    "features_to_keep = X_train.columns[sel.get_support()]"
   ]
  },
  {
   "cell_type": "code",
   "execution_count": 22,
   "metadata": {},
   "outputs": [
    {
     "data": {
      "text/plain": [
       "((272, 73), (31, 73))"
      ]
     },
     "execution_count": 22,
     "metadata": {},
     "output_type": "execute_result"
    }
   ],
   "source": [
    "# we can then remove the features like this\n",
    "X_train = sel.transform(X_train)\n",
    "X_test = sel.transform(X_test)\n",
    "\n",
    "X_train.shape, X_test.shape"
   ]
  },
  {
   "cell_type": "code",
   "execution_count": 23,
   "metadata": {},
   "outputs": [],
   "source": [
    "# sklearn transformations lead to numpy arrays\n",
    "# here we transform the arrays back to dataframes\n",
    "# please be mindful of getting the columns assigned\n",
    "# correctly\n",
    "\n",
    "X_train= pd.DataFrame(X_train)\n",
    "X_train.columns = features_to_keep\n",
    "\n",
    "X_test= pd.DataFrame(X_test)\n",
    "X_test.columns = features_to_keep"
   ]
  },
  {
   "cell_type": "markdown",
   "metadata": {},
   "source": [
    "### Remove correlated features"
   ]
  },
  {
   "cell_type": "code",
   "execution_count": 24,
   "metadata": {},
   "outputs": [
    {
     "name": "stdout",
     "output_type": "stream",
     "text": [
      "correlated features:  17\n"
     ]
    }
   ],
   "source": [
    "# find and remove correlated features\n",
    "def correlation(dataset, threshold):\n",
    "    col_corr = set()  # Set of all the names of correlated columns\n",
    "    corr_matrix = dataset.corr()\n",
    "    for i in range(len(corr_matrix.columns)):\n",
    "        for j in range(i):\n",
    "            if abs(corr_matrix.iloc[i, j]) > threshold: # we are interested in absolute coeff value\n",
    "                colname = corr_matrix.columns[i]  # getting the name of column\n",
    "                col_corr.add(colname)\n",
    "    return col_corr\n",
    "\n",
    "corr_features = correlation(X_train, 0.8)\n",
    "print('correlated features: ', len(set(corr_features)) )"
   ]
  },
  {
   "cell_type": "code",
   "execution_count": 25,
   "metadata": {},
   "outputs": [
    {
     "data": {
      "text/plain": [
       "((272, 56), (31, 56))"
      ]
     },
     "execution_count": 25,
     "metadata": {},
     "output_type": "execute_result"
    }
   ],
   "source": [
    "# removed correlated  features\n",
    "X_train.drop(labels=corr_features, axis=1, inplace=True)\n",
    "X_test.drop(labels=corr_features, axis=1, inplace=True)\n",
    "\n",
    "X_train.shape, X_test.shape"
   ]
  },
  {
   "cell_type": "code",
   "execution_count": 26,
   "metadata": {},
   "outputs": [],
   "source": [
    "# keep a copy of the dataset at  this stage\n",
    "X_train_corr = X_train.copy()\n",
    "X_test_corr = X_test.copy()"
   ]
  },
  {
   "cell_type": "markdown",
   "metadata": {},
   "source": [
    "### Univariate Selection"
   ]
  },
  {
   "cell_type": "code",
   "execution_count": 27,
   "metadata": {},
   "outputs": [],
   "source": [
    "# mutual_info_classif, mutual_info_regression: Functions for calculating Mutual Information Between classes and the target\n",
    "from sklearn.feature_selection import mutual_info_classif, mutual_info_regression\n",
    "from sklearn.feature_selection import SelectKBest, SelectPercentile\n",
    "%matplotlib inline"
   ]
  },
  {
   "cell_type": "code",
   "execution_count": 28,
   "metadata": {},
   "outputs": [],
   "source": [
    "# Get Numerical features from dataset# Get N \n",
    "numerics = ['int16', 'int32','int64', 'float16', 'float32', 'float64']\n",
    "numerical_features = list(dataset.select_dtypes(include=numerics).columns)"
   ]
  },
  {
   "cell_type": "code",
   "execution_count": 29,
   "metadata": {},
   "outputs": [],
   "source": [
    "data = dataset[numerical_features]"
   ]
  },
  {
   "cell_type": "code",
   "execution_count": 30,
   "metadata": {},
   "outputs": [
    {
     "data": {
      "text/html": [
       "<div>\n",
       "<style scoped>\n",
       "    .dataframe tbody tr th:only-of-type {\n",
       "        vertical-align: middle;\n",
       "    }\n",
       "\n",
       "    .dataframe tbody tr th {\n",
       "        vertical-align: top;\n",
       "    }\n",
       "\n",
       "    .dataframe thead th {\n",
       "        text-align: right;\n",
       "    }\n",
       "</style>\n",
       "<table border=\"1\" class=\"dataframe\">\n",
       "  <thead>\n",
       "    <tr style=\"text-align: right;\">\n",
       "      <th></th>\n",
       "      <th>Age</th>\n",
       "      <th>Weight</th>\n",
       "      <th>Length</th>\n",
       "      <th>BMI</th>\n",
       "      <th>DM</th>\n",
       "      <th>HTN</th>\n",
       "      <th>Current_Smoker</th>\n",
       "      <th>EX-Smoker</th>\n",
       "      <th>FH</th>\n",
       "      <th>BP</th>\n",
       "      <th>...</th>\n",
       "      <th>HB</th>\n",
       "      <th>K</th>\n",
       "      <th>Na</th>\n",
       "      <th>WBC</th>\n",
       "      <th>Lymph</th>\n",
       "      <th>Neut</th>\n",
       "      <th>PLT</th>\n",
       "      <th>EF-TTE</th>\n",
       "      <th>Region_RWMA</th>\n",
       "      <th>Cath</th>\n",
       "    </tr>\n",
       "  </thead>\n",
       "  <tbody>\n",
       "    <tr>\n",
       "      <th>0</th>\n",
       "      <td>53</td>\n",
       "      <td>90</td>\n",
       "      <td>175</td>\n",
       "      <td>29.387755</td>\n",
       "      <td>0</td>\n",
       "      <td>1</td>\n",
       "      <td>1</td>\n",
       "      <td>0</td>\n",
       "      <td>0</td>\n",
       "      <td>110</td>\n",
       "      <td>...</td>\n",
       "      <td>15.6</td>\n",
       "      <td>4.7</td>\n",
       "      <td>141</td>\n",
       "      <td>5700</td>\n",
       "      <td>39</td>\n",
       "      <td>52</td>\n",
       "      <td>261</td>\n",
       "      <td>50</td>\n",
       "      <td>0</td>\n",
       "      <td>1</td>\n",
       "    </tr>\n",
       "    <tr>\n",
       "      <th>1</th>\n",
       "      <td>67</td>\n",
       "      <td>70</td>\n",
       "      <td>157</td>\n",
       "      <td>28.398718</td>\n",
       "      <td>0</td>\n",
       "      <td>1</td>\n",
       "      <td>0</td>\n",
       "      <td>0</td>\n",
       "      <td>0</td>\n",
       "      <td>140</td>\n",
       "      <td>...</td>\n",
       "      <td>13.9</td>\n",
       "      <td>4.7</td>\n",
       "      <td>156</td>\n",
       "      <td>7700</td>\n",
       "      <td>38</td>\n",
       "      <td>55</td>\n",
       "      <td>165</td>\n",
       "      <td>40</td>\n",
       "      <td>4</td>\n",
       "      <td>1</td>\n",
       "    </tr>\n",
       "    <tr>\n",
       "      <th>2</th>\n",
       "      <td>54</td>\n",
       "      <td>54</td>\n",
       "      <td>164</td>\n",
       "      <td>20.077335</td>\n",
       "      <td>0</td>\n",
       "      <td>0</td>\n",
       "      <td>1</td>\n",
       "      <td>0</td>\n",
       "      <td>0</td>\n",
       "      <td>100</td>\n",
       "      <td>...</td>\n",
       "      <td>13.5</td>\n",
       "      <td>4.7</td>\n",
       "      <td>139</td>\n",
       "      <td>7400</td>\n",
       "      <td>38</td>\n",
       "      <td>60</td>\n",
       "      <td>230</td>\n",
       "      <td>40</td>\n",
       "      <td>2</td>\n",
       "      <td>1</td>\n",
       "    </tr>\n",
       "    <tr>\n",
       "      <th>3</th>\n",
       "      <td>66</td>\n",
       "      <td>67</td>\n",
       "      <td>158</td>\n",
       "      <td>26.838648</td>\n",
       "      <td>0</td>\n",
       "      <td>1</td>\n",
       "      <td>0</td>\n",
       "      <td>0</td>\n",
       "      <td>0</td>\n",
       "      <td>100</td>\n",
       "      <td>...</td>\n",
       "      <td>12.1</td>\n",
       "      <td>4.4</td>\n",
       "      <td>142</td>\n",
       "      <td>13000</td>\n",
       "      <td>18</td>\n",
       "      <td>72</td>\n",
       "      <td>742</td>\n",
       "      <td>55</td>\n",
       "      <td>0</td>\n",
       "      <td>0</td>\n",
       "    </tr>\n",
       "    <tr>\n",
       "      <th>4</th>\n",
       "      <td>50</td>\n",
       "      <td>87</td>\n",
       "      <td>153</td>\n",
       "      <td>37.165193</td>\n",
       "      <td>0</td>\n",
       "      <td>1</td>\n",
       "      <td>0</td>\n",
       "      <td>0</td>\n",
       "      <td>0</td>\n",
       "      <td>110</td>\n",
       "      <td>...</td>\n",
       "      <td>13.2</td>\n",
       "      <td>4.0</td>\n",
       "      <td>140</td>\n",
       "      <td>9200</td>\n",
       "      <td>55</td>\n",
       "      <td>39</td>\n",
       "      <td>274</td>\n",
       "      <td>50</td>\n",
       "      <td>0</td>\n",
       "      <td>0</td>\n",
       "    </tr>\n",
       "  </tbody>\n",
       "</table>\n",
       "<p>5 rows × 35 columns</p>\n",
       "</div>"
      ],
      "text/plain": [
       "   Age  Weight  Length        BMI  DM  HTN  Current_Smoker  EX-Smoker  FH  \\\n",
       "0   53      90     175  29.387755   0    1               1          0   0   \n",
       "1   67      70     157  28.398718   0    1               0          0   0   \n",
       "2   54      54     164  20.077335   0    0               1          0   0   \n",
       "3   66      67     158  26.838648   0    1               0          0   0   \n",
       "4   50      87     153  37.165193   0    1               0          0   0   \n",
       "\n",
       "    BP  ...    HB    K   Na    WBC  Lymph  Neut  PLT  EF-TTE  Region_RWMA  \\\n",
       "0  110  ...  15.6  4.7  141   5700     39    52  261      50            0   \n",
       "1  140  ...  13.9  4.7  156   7700     38    55  165      40            4   \n",
       "2  100  ...  13.5  4.7  139   7400     38    60  230      40            2   \n",
       "3  100  ...  12.1  4.4  142  13000     18    72  742      55            0   \n",
       "4  110  ...  13.2  4.0  140   9200     55    39  274      50            0   \n",
       "\n",
       "   Cath  \n",
       "0     1  \n",
       "1     1  \n",
       "2     1  \n",
       "3     0  \n",
       "4     0  \n",
       "\n",
       "[5 rows x 35 columns]"
      ]
     },
     "execution_count": 30,
     "metadata": {},
     "output_type": "execute_result"
    }
   ],
   "source": [
    "data.head()"
   ]
  },
  {
   "cell_type": "code",
   "execution_count": 31,
   "metadata": {},
   "outputs": [
    {
     "data": {
      "text/html": [
       "<div>\n",
       "<style scoped>\n",
       "    .dataframe tbody tr th:only-of-type {\n",
       "        vertical-align: middle;\n",
       "    }\n",
       "\n",
       "    .dataframe tbody tr th {\n",
       "        vertical-align: top;\n",
       "    }\n",
       "\n",
       "    .dataframe thead th {\n",
       "        text-align: right;\n",
       "    }\n",
       "</style>\n",
       "<table border=\"1\" class=\"dataframe\">\n",
       "  <thead>\n",
       "    <tr style=\"text-align: right;\">\n",
       "      <th></th>\n",
       "      <th>Age</th>\n",
       "      <th>Weight</th>\n",
       "      <th>Length</th>\n",
       "      <th>BMI</th>\n",
       "      <th>DM</th>\n",
       "      <th>HTN</th>\n",
       "      <th>Current_Smoker</th>\n",
       "      <th>EX-Smoker</th>\n",
       "      <th>FH</th>\n",
       "      <th>BP</th>\n",
       "      <th>...</th>\n",
       "      <th>ESR</th>\n",
       "      <th>HB</th>\n",
       "      <th>K</th>\n",
       "      <th>Na</th>\n",
       "      <th>WBC</th>\n",
       "      <th>Lymph</th>\n",
       "      <th>Neut</th>\n",
       "      <th>PLT</th>\n",
       "      <th>EF-TTE</th>\n",
       "      <th>Region_RWMA</th>\n",
       "    </tr>\n",
       "  </thead>\n",
       "  <tbody>\n",
       "    <tr>\n",
       "      <th>0</th>\n",
       "      <td>53</td>\n",
       "      <td>90</td>\n",
       "      <td>175</td>\n",
       "      <td>29.387755</td>\n",
       "      <td>0</td>\n",
       "      <td>1</td>\n",
       "      <td>1</td>\n",
       "      <td>0</td>\n",
       "      <td>0</td>\n",
       "      <td>110</td>\n",
       "      <td>...</td>\n",
       "      <td>7</td>\n",
       "      <td>15.6</td>\n",
       "      <td>4.7</td>\n",
       "      <td>141</td>\n",
       "      <td>5700</td>\n",
       "      <td>39</td>\n",
       "      <td>52</td>\n",
       "      <td>261</td>\n",
       "      <td>50</td>\n",
       "      <td>0</td>\n",
       "    </tr>\n",
       "    <tr>\n",
       "      <th>1</th>\n",
       "      <td>67</td>\n",
       "      <td>70</td>\n",
       "      <td>157</td>\n",
       "      <td>28.398718</td>\n",
       "      <td>0</td>\n",
       "      <td>1</td>\n",
       "      <td>0</td>\n",
       "      <td>0</td>\n",
       "      <td>0</td>\n",
       "      <td>140</td>\n",
       "      <td>...</td>\n",
       "      <td>26</td>\n",
       "      <td>13.9</td>\n",
       "      <td>4.7</td>\n",
       "      <td>156</td>\n",
       "      <td>7700</td>\n",
       "      <td>38</td>\n",
       "      <td>55</td>\n",
       "      <td>165</td>\n",
       "      <td>40</td>\n",
       "      <td>4</td>\n",
       "    </tr>\n",
       "    <tr>\n",
       "      <th>2</th>\n",
       "      <td>54</td>\n",
       "      <td>54</td>\n",
       "      <td>164</td>\n",
       "      <td>20.077335</td>\n",
       "      <td>0</td>\n",
       "      <td>0</td>\n",
       "      <td>1</td>\n",
       "      <td>0</td>\n",
       "      <td>0</td>\n",
       "      <td>100</td>\n",
       "      <td>...</td>\n",
       "      <td>10</td>\n",
       "      <td>13.5</td>\n",
       "      <td>4.7</td>\n",
       "      <td>139</td>\n",
       "      <td>7400</td>\n",
       "      <td>38</td>\n",
       "      <td>60</td>\n",
       "      <td>230</td>\n",
       "      <td>40</td>\n",
       "      <td>2</td>\n",
       "    </tr>\n",
       "    <tr>\n",
       "      <th>3</th>\n",
       "      <td>66</td>\n",
       "      <td>67</td>\n",
       "      <td>158</td>\n",
       "      <td>26.838648</td>\n",
       "      <td>0</td>\n",
       "      <td>1</td>\n",
       "      <td>0</td>\n",
       "      <td>0</td>\n",
       "      <td>0</td>\n",
       "      <td>100</td>\n",
       "      <td>...</td>\n",
       "      <td>76</td>\n",
       "      <td>12.1</td>\n",
       "      <td>4.4</td>\n",
       "      <td>142</td>\n",
       "      <td>13000</td>\n",
       "      <td>18</td>\n",
       "      <td>72</td>\n",
       "      <td>742</td>\n",
       "      <td>55</td>\n",
       "      <td>0</td>\n",
       "    </tr>\n",
       "    <tr>\n",
       "      <th>4</th>\n",
       "      <td>50</td>\n",
       "      <td>87</td>\n",
       "      <td>153</td>\n",
       "      <td>37.165193</td>\n",
       "      <td>0</td>\n",
       "      <td>1</td>\n",
       "      <td>0</td>\n",
       "      <td>0</td>\n",
       "      <td>0</td>\n",
       "      <td>110</td>\n",
       "      <td>...</td>\n",
       "      <td>27</td>\n",
       "      <td>13.2</td>\n",
       "      <td>4.0</td>\n",
       "      <td>140</td>\n",
       "      <td>9200</td>\n",
       "      <td>55</td>\n",
       "      <td>39</td>\n",
       "      <td>274</td>\n",
       "      <td>50</td>\n",
       "      <td>0</td>\n",
       "    </tr>\n",
       "  </tbody>\n",
       "</table>\n",
       "<p>5 rows × 34 columns</p>\n",
       "</div>"
      ],
      "text/plain": [
       "   Age  Weight  Length        BMI  DM  HTN  Current_Smoker  EX-Smoker  FH  \\\n",
       "0   53      90     175  29.387755   0    1               1          0   0   \n",
       "1   67      70     157  28.398718   0    1               0          0   0   \n",
       "2   54      54     164  20.077335   0    0               1          0   0   \n",
       "3   66      67     158  26.838648   0    1               0          0   0   \n",
       "4   50      87     153  37.165193   0    1               0          0   0   \n",
       "\n",
       "    BP  ...  ESR    HB    K   Na    WBC  Lymph  Neut  PLT  EF-TTE  Region_RWMA  \n",
       "0  110  ...    7  15.6  4.7  141   5700     39    52  261      50            0  \n",
       "1  140  ...   26  13.9  4.7  156   7700     38    55  165      40            4  \n",
       "2  100  ...   10  13.5  4.7  139   7400     38    60  230      40            2  \n",
       "3  100  ...   76  12.1  4.4  142  13000     18    72  742      55            0  \n",
       "4  110  ...   27  13.2  4.0  140   9200     55    39  274      50            0  \n",
       "\n",
       "[5 rows x 34 columns]"
      ]
     },
     "execution_count": 31,
     "metadata": {},
     "output_type": "execute_result"
    }
   ],
   "source": [
    "X = data.drop(['Cath'], axis=1)\n",
    "X.head()"
   ]
  },
  {
   "cell_type": "code",
   "execution_count": 32,
   "metadata": {},
   "outputs": [
    {
     "data": {
      "text/plain": [
       "0    1\n",
       "1    1\n",
       "2    1\n",
       "3    0\n",
       "4    0\n",
       "Name: Cath, dtype: int64"
      ]
     },
     "execution_count": 32,
     "metadata": {},
     "output_type": "execute_result"
    }
   ],
   "source": [
    "y = data['Cath']\n",
    "y.head()"
   ]
  },
  {
   "cell_type": "code",
   "execution_count": 33,
   "metadata": {},
   "outputs": [
    {
     "data": {
      "text/plain": [
       "array([0.02359551, 0.00271128, 0.        , 0.01770685, 0.03628211,\n",
       "       0.01218367, 0.        , 0.07096267, 0.02691072, 0.03619592,\n",
       "       0.        , 0.        , 0.14385162, 0.        , 0.01646502,\n",
       "       0.03245169, 0.        , 0.02108764, 0.0303336 , 0.04330453,\n",
       "       0.        , 0.        , 0.        , 0.        , 0.        ,\n",
       "       0.00789372, 0.02913232, 0.00325645, 0.        , 0.04181986,\n",
       "       0.        , 0.01918496, 0.04918742, 0.00196292, 0.        ,\n",
       "       0.08724462, 0.06572618, 0.        , 0.        , 0.        ,\n",
       "       0.        , 0.        , 0.        , 0.03045345, 0.02440941,\n",
       "       0.12739839, 0.04897435, 0.        , 0.        , 0.02194572,\n",
       "       0.        , 0.        , 0.        , 0.        , 0.03304318,\n",
       "       0.06834567])"
      ]
     },
     "execution_count": 33,
     "metadata": {},
     "output_type": "execute_result"
    }
   ],
   "source": [
    "# Calculate Mutual Information between each feature and the target\n",
    "mutual_info = mutual_info_classif(X_train.fillna(0), Y_train)\n",
    "mutual_info"
   ]
  },
  {
   "cell_type": "code",
   "execution_count": 34,
   "metadata": {},
   "outputs": [
    {
     "data": {
      "text/plain": [
       "Typical_Chest_Pain         0.143852\n",
       "Atypical_N                 0.127398\n",
       "CRF_N                      0.087245\n",
       "EX-Smoker                  0.070963\n",
       "VHD_mild                   0.068346\n",
       "CVA_N                      0.065726\n",
       "Region_RWMA                0.049187\n",
       "Nonanginal_N               0.048974\n",
       "CR                         0.043305\n",
       "Lymph                      0.041820\n",
       "DM                         0.036282\n",
       "BP                         0.036196\n",
       "VHD_Severe                 0.033043\n",
       "St_Elevation               0.032452\n",
       "Diastolic_Murmur_N         0.030453\n",
       "FBS                        0.030334\n",
       "K                          0.029132\n",
       "FH                         0.026911\n",
       "Dyspnea_N                  0.024409\n",
       "Age                        0.023596\n",
       "BBB_LBBB                   0.021946\n",
       "Tinversion                 0.021088\n",
       "EF-TTE                     0.019185\n",
       "BMI                        0.017707\n",
       "Q_Wave                     0.016465\n",
       "HTN                        0.012184\n",
       "HB                         0.007894\n",
       "Na                         0.003256\n",
       "Weight                     0.002711\n",
       "Sex_Fmale                  0.001963\n",
       "TG                         0.000000\n",
       "Current_Smoker             0.000000\n",
       "LVH_N                      0.000000\n",
       "Poor_R_Progression_N       0.000000\n",
       "BBB_N                      0.000000\n",
       "Systolic_Murmur_N          0.000000\n",
       "BBB_RBBB                   0.000000\n",
       "VHD_Moderate               0.000000\n",
       "VHD_N                      0.000000\n",
       "Length                     0.000000\n",
       "PR                         0.000000\n",
       "Thyroid_Disease_N          0.000000\n",
       "Lung_rales_N               0.000000\n",
       "Weak_Peripheral_Pulse_N    0.000000\n",
       "DLP_N                      0.000000\n",
       "LDL                        0.000000\n",
       "Airway_disease_N           0.000000\n",
       "Edema                      0.000000\n",
       "Function_Class             0.000000\n",
       "Obesity_N                  0.000000\n",
       "PLT                        0.000000\n",
       "St_Depression              0.000000\n",
       "ESR                        0.000000\n",
       "BUN                        0.000000\n",
       "HDL                        0.000000\n",
       "WBC                        0.000000\n",
       "dtype: float64"
      ]
     },
     "execution_count": 34,
     "metadata": {},
     "output_type": "execute_result"
    }
   ],
   "source": [
    "# Create Feature Target Mutual Information Series\n",
    "mi_series = pd.Series(mutual_info)\n",
    "mi_series.index = X_train.columns\n",
    "mi_series.sort_values(ascending=False)"
   ]
  },
  {
   "cell_type": "code",
   "execution_count": 35,
   "metadata": {},
   "outputs": [
    {
     "data": {
      "text/plain": [
       "<AxesSubplot:>"
      ]
     },
     "execution_count": 35,
     "metadata": {},
     "output_type": "execute_result"
    },
    {
     "data": {
      "image/png": "[encoded data removed]",
      "text/plain": [
       "<Figure size 1440x576 with 1 Axes>"
      ]
     },
     "metadata": {
      "needs_background": "light"
     },
     "output_type": "display_data"
    }
   ],
   "source": [
    "mi_series.sort_values(ascending=False).plot.bar(figsize=(20,8))"
   ]
  },
  {
   "cell_type": "markdown",
   "metadata": {},
   "source": [
    "As we can see in the plot above from left to right, the features which have the most amount of mutual information is on the left and the features with the least amount of mutual information are on the right. Some of the features contribute a lot to the mutual information whereas some of them do not contribute anything. So, to select the important features from this list, we can set a threshold like maybe select the first 10 percentile of features or first 20 features etc.\n",
    "\n",
    "To do this we can use a combination of \"SelectKbest\" or \"SelectPercentile\"."
   ]
  },
  {
   "cell_type": "code",
   "execution_count": 36,
   "metadata": {},
   "outputs": [
    {
     "name": "stdout",
     "output_type": "stream",
     "text": [
      "Selected top 10 features: Index(['Age', 'EX-Smoker', 'BP', 'Typical_Chest_Pain', 'Lymph', 'EF-TTE',\n",
      "       'Region_RWMA', 'Sex_Fmale', 'Atypical_N', 'VHD_Moderate'],\n",
      "      dtype='object')\n"
     ]
    }
   ],
   "source": [
    "# Select K best features\n",
    "k_best_features = SelectKBest(mutual_info_classif, k=10).fit(X_train.fillna(0), Y_train)\n",
    "print('Selected top 10 features: {}'.format(X_train.columns[k_best_features.get_support()]))"
   ]
  },
  {
   "cell_type": "code",
   "execution_count": 37,
   "metadata": {},
   "outputs": [
    {
     "name": "stdout",
     "output_type": "stream",
     "text": [
      "Requirement already satisfied: sklearn in /home/shivam/.local/lib/python3.8/site-packages (0.0)\n",
      "Requirement already satisfied: scikit-learn in /home/shivam/.local/lib/python3.8/site-packages (from sklearn) (0.24.1)\n",
      "Requirement already satisfied: numpy>=1.13.3 in /home/shivam/.local/lib/python3.8/site-packages (from scikit-learn->sklearn) (1.20.0)\n",
      "Requirement already satisfied: joblib>=0.11 in /home/shivam/.local/lib/python3.8/site-packages (from scikit-learn->sklearn) (1.0.1)\n",
      "Requirement already satisfied: scipy>=0.19.1 in /home/shivam/.local/lib/python3.8/site-packages (from scikit-learn->sklearn) (1.6.0)\n",
      "Requirement already satisfied: threadpoolctl>=2.0.0 in /home/shivam/.local/lib/python3.8/site-packages (from scikit-learn->sklearn) (2.1.0)\n",
      "Note: you may need to restart the kernel to use updated packages.\n"
     ]
    }
   ],
   "source": [
    "pip install sklearn"
   ]
  },
  {
   "cell_type": "markdown",
   "metadata": {},
   "source": [
    "### Univariate roc-auc or mse"
   ]
  },
  {
   "cell_type": "code",
   "execution_count": 38,
   "metadata": {},
   "outputs": [],
   "source": [
    "from sklearn.tree import DecisionTreeClassifier, DecisionTreeRegressor\n",
    "from sklearn.metrics import roc_auc_score, mean_squared_error"
   ]
  },
  {
   "cell_type": "code",
   "execution_count": 39,
   "metadata": {},
   "outputs": [
    {
     "data": {
      "text/plain": [
       "(303, 35)"
      ]
     },
     "execution_count": 39,
     "metadata": {},
     "output_type": "execute_result"
    }
   ],
   "source": [
    "# here for simplicity we will use only numerical variables\n",
    "# select numerical columns:\n",
    "\n",
    "numerics = ['int16', 'int32', 'int64', 'float16', 'float32', 'float64']\n",
    "numerical_vars = list(data.select_dtypes(include=numerics).columns)\n",
    "data = data[numerical_vars]\n",
    "data.shape"
   ]
  },
  {
   "cell_type": "code",
   "execution_count": 40,
   "metadata": {},
   "outputs": [],
   "source": [
    "# loop to build a tree, make predictions and get the roc-auc\n",
    "# for each feature of the train set\n",
    "\n",
    "roc_values = []\n",
    "for feature in X_train.columns:\n",
    "    clf = DecisionTreeClassifier()\n",
    "    clf.fit(X_train[feature].fillna(0).to_frame(), Y_train)\n",
    "    y_scored = clf.predict_proba(X_test[feature].fillna(0).to_frame())\n",
    "    roc_values.append(roc_auc_score(Y_test, y_scored[:, 1]))"
   ]
  },
  {
   "cell_type": "code",
   "execution_count": 41,
   "metadata": {},
   "outputs": [
    {
     "data": {
      "text/plain": [
       "Typical_Chest_Pain         0.809091\n",
       "Age                        0.800000\n",
       "FBS                        0.763636\n",
       "Atypical_N                 0.718182\n",
       "Tinversion                 0.709091\n",
       "EF-TTE                     0.693182\n",
       "HTN                        0.668182\n",
       "Region_RWMA                0.650000\n",
       "PR                         0.645455\n",
       "St_Depression              0.634091\n",
       "ESR                        0.609091\n",
       "BUN                        0.600000\n",
       "VHD_N                      0.572727\n",
       "DM                         0.554545\n",
       "Weak_Peripheral_Pulse_N    0.550000\n",
       "LDL                        0.547727\n",
       "Diastolic_Murmur_N         0.545455\n",
       "BBB_LBBB                   0.545455\n",
       "BBB_N                      0.545455\n",
       "Nonanginal_N               0.545455\n",
       "Current_Smoker             0.534091\n",
       "LVH_N                      0.529545\n",
       "VHD_Moderate               0.529545\n",
       "Dyspnea_N                  0.527273\n",
       "TG                         0.527273\n",
       "St_Elevation               0.525000\n",
       "Airway_disease_N           0.525000\n",
       "Q_Wave                     0.525000\n",
       "VHD_mild                   0.518182\n",
       "Obesity_N                  0.509091\n",
       "Function_Class             0.500000\n",
       "BBB_RBBB                   0.500000\n",
       "CRF_N                      0.500000\n",
       "Poor_R_Progression_N       0.500000\n",
       "Thyroid_Disease_N          0.500000\n",
       "Lung_rales_N               0.500000\n",
       "FH                         0.484091\n",
       "EX-Smoker                  0.479545\n",
       "Edema                      0.479545\n",
       "WBC                        0.477273\n",
       "BP                         0.477273\n",
       "VHD_Severe                 0.475000\n",
       "Systolic_Murmur_N          0.470455\n",
       "HDL                        0.463636\n",
       "Sex_Fmale                  0.456818\n",
       "CVA_N                      0.454545\n",
       "BMI                        0.440909\n",
       "Weight                     0.429545\n",
       "Lymph                      0.429545\n",
       "Length                     0.418182\n",
       "PLT                        0.415909\n",
       "DLP_N                      0.415909\n",
       "Na                         0.395455\n",
       "HB                         0.361364\n",
       "CR                         0.338636\n",
       "K                          0.325000\n",
       "dtype: float64"
      ]
     },
     "execution_count": 41,
     "metadata": {},
     "output_type": "execute_result"
    }
   ],
   "source": [
    "# let's add the variable names and order it for clearer visualisation\n",
    "roc_values = pd.Series(roc_values)\n",
    "roc_values.index = X_train.columns\n",
    "roc_values.sort_values(ascending=False)"
   ]
  },
  {
   "cell_type": "code",
   "execution_count": 42,
   "metadata": {},
   "outputs": [
    {
     "data": {
      "text/plain": [
       "<AxesSubplot:>"
      ]
     },
     "execution_count": 42,
     "metadata": {},
     "output_type": "execute_result"
    },
    {
     "data": {
      "image/png": "[encoded data removed]",
      "text/plain": [
       "<Figure size 1440x576 with 1 Axes>"
      ]
     },
     "metadata": {
      "needs_background": "light"
     },
     "output_type": "display_data"
    }
   ],
   "source": [
    "# and now let's plot\n",
    "roc_values.sort_values(ascending=False).plot.bar(figsize=(20, 8))"
   ]
  },
  {
   "cell_type": "code",
   "execution_count": 43,
   "metadata": {},
   "outputs": [
    {
     "data": {
      "text/plain": [
       "(30, 56)"
      ]
     },
     "execution_count": 43,
     "metadata": {},
     "output_type": "execute_result"
    }
   ],
   "source": [
    "# a roc auc value of 0.5 indicates random decision\n",
    "# let's check how many features show a roc-auc value\n",
    "# higher than random\n",
    "\n",
    "selected_feat = roc_values[roc_values > 0.5]\n",
    "len(selected_feat), X_train.shape[1]"
   ]
  },
  {
   "cell_type": "markdown",
   "metadata": {},
   "source": [
    "30 of 56 features show a predictive performance higher than 0.5. This means that we could remove 26 features from this dataset using this method."
   ]
  },
  {
   "cell_type": "code",
   "execution_count": 44,
   "metadata": {},
   "outputs": [
    {
     "data": {
      "text/plain": [
       "Age                        0.800000\n",
       "DM                         0.554545\n",
       "HTN                        0.668182\n",
       "Current_Smoker             0.534091\n",
       "PR                         0.645455\n",
       "Typical_Chest_Pain         0.809091\n",
       "Q_Wave                     0.525000\n",
       "St_Elevation               0.525000\n",
       "St_Depression              0.634091\n",
       "Tinversion                 0.709091\n",
       "FBS                        0.763636\n",
       "TG                         0.527273\n",
       "LDL                        0.547727\n",
       "BUN                        0.600000\n",
       "ESR                        0.609091\n",
       "EF-TTE                     0.693182\n",
       "Region_RWMA                0.650000\n",
       "Obesity_N                  0.509091\n",
       "Airway_disease_N           0.525000\n",
       "Weak_Peripheral_Pulse_N    0.550000\n",
       "Diastolic_Murmur_N         0.545455\n",
       "Dyspnea_N                  0.527273\n",
       "Atypical_N                 0.718182\n",
       "Nonanginal_N               0.545455\n",
       "LVH_N                      0.529545\n",
       "BBB_LBBB                   0.545455\n",
       "BBB_N                      0.545455\n",
       "VHD_Moderate               0.529545\n",
       "VHD_N                      0.572727\n",
       "VHD_mild                   0.518182\n",
       "dtype: float64"
      ]
     },
     "execution_count": 44,
     "metadata": {},
     "output_type": "execute_result"
    }
   ],
   "source": [
    "selected_feat"
   ]
  },
  {
   "cell_type": "code",
   "execution_count": 45,
   "metadata": {},
   "outputs": [],
   "source": [
    "X_train = X_train[selected_feat.index]\n",
    "X_test = X_test[selected_feat.index]"
   ]
  },
  {
   "cell_type": "markdown",
   "metadata": {},
   "source": [
    "## Model Fitting"
   ]
  },
  {
   "cell_type": "code",
   "execution_count": 46,
   "metadata": {},
   "outputs": [],
   "source": [
    "from sklearn.metrics import classification_report,confusion_matrix\n",
    "from sklearn.metrics import accuracy_score"
   ]
  },
  {
   "cell_type": "code",
   "execution_count": 47,
   "metadata": {},
   "outputs": [],
   "source": [
    "# Function to automate fitting and spot checking models \n",
    "def classifer(model,train_x,train_y,test,true):\n",
    "    model.fit(train_x,train_y)\n",
    "    prediction= model.predict(X_test)\n",
    "    print(classification_report(true,prediction))\n",
    "    #print('The accuracy of this model is: %s' % '{0:.3%}'.format(accuracy_score(true,prediction)))\n",
    "    \n",
    "    # Create confusion matrix plot\n",
    "    cm = confusion_matrix(y_test,prediction)\n",
    "    fig= plot_confusion_matrix(conf_mat=cm,figsize=(4,4),cmap=plt.cm.Reds,hide_spines=True)\n",
    "    plt.title('Confusion Matrix',fontsize=14)\n",
    "    plt.xlabel('Predicted Values')\n",
    "    plt.ylabel('Actual Values')\n",
    "    plt.grid('off')\n",
    "\n",
    "    # 10-fold Cross Validation\n",
    "    accuracies = cross_val_score(estimator= model,X= X_train,y=y_train,cv=10)\n",
    "    print(\"The average model accuracy score is : %s\" % \"{0:.3%}\".format(accuracies.mean()))\n",
    "    print(\"The average accuracy score standard deviation is : %s\" % \"{0:.3%}\".format(accuracies.std()))\n"
   ]
  },
  {
   "cell_type": "markdown",
   "metadata": {},
   "source": [
    "### I. K Nearest Neighbors"
   ]
  },
  {
   "cell_type": "code",
   "execution_count": 48,
   "metadata": {},
   "outputs": [],
   "source": [
    "y = dataset['Cath']\n",
    "X = dataset.drop(['Cath'], axis = 1)"
   ]
  },
  {
   "cell_type": "code",
   "execution_count": 49,
   "metadata": {},
   "outputs": [],
   "source": [
    "from sklearn.neighbors import KNeighborsClassifier\n",
    "from sklearn.model_selection import cross_val_score\n",
    "knn_scores = []\n",
    "for k in range(1,40):\n",
    "    knn_classifier = KNeighborsClassifier(n_neighbors = k)\n",
    "    score=cross_val_score(knn_classifier,X,y,cv=40)\n",
    "    knn_scores.append(score.mean())\n",
    "    knn_classifier.fit(X_train,Y_train)\n",
    "    Y_pred_knn=knn_classifier.predict(X_test)"
   ]
  },
  {
   "cell_type": "code",
   "execution_count": 50,
   "metadata": {},
   "outputs": [
    {
     "data": {
      "text/plain": [
       "Text(0.5, 1.0, 'K Neighbors Classifier scores for different K values')"
      ]
     },
     "execution_count": 50,
     "metadata": {},
     "output_type": "execute_result"
    },
    {
     "data": {
      "image/png": "[encoded data removed]",
      "text/plain": [
       "<Figure size 720x432 with 1 Axes>"
      ]
     },
     "metadata": {
      "needs_background": "light"
     },
     "output_type": "display_data"
    }
   ],
   "source": [
    "plt.figure(figsize=(10,6))\n",
    "plt.plot([k for k in range(1, 40)], knn_scores, color = 'red')\n",
    "for i in range(1,40):\n",
    "    plt.text(i, knn_scores[i-1], (i, knn_scores[i-1]))\n",
    "plt.xticks([i for i in range(1, 40)])\n",
    "plt.xlabel('Number of Neighbors (K)')\n",
    "plt.ylabel('Scores')\n",
    "plt.title('K Neighbors Classifier scores for different K values')"
   ]
  },
  {
   "cell_type": "code",
   "execution_count": 51,
   "metadata": {},
   "outputs": [
    {
     "name": "stdout",
     "output_type": "stream",
     "text": [
      "The accuracy score achieved using KNN is: 70.97 %\n"
     ]
    }
   ],
   "source": [
    "knn_classifier = KNeighborsClassifier(n_neighbors = 10)\n",
    "score=cross_val_score(knn_classifier,X,y,cv=10)\n",
    "\n",
    "score_knn = round(accuracy_score(Y_pred_knn,Y_test)*100,2)\n",
    "\n",
    "print(\"The accuracy score achieved using KNN is: \"+str(score_knn)+\" %\")"
   ]
  },
  {
   "cell_type": "code",
   "execution_count": 52,
   "metadata": {},
   "outputs": [
    {
     "data": {
      "text/plain": [
       "0.6669892473118281"
      ]
     },
     "execution_count": 52,
     "metadata": {},
     "output_type": "execute_result"
    }
   ],
   "source": [
    "score.mean()"
   ]
  },
  {
   "cell_type": "markdown",
   "metadata": {},
   "source": [
    "### Confusion Matrix of KNN"
   ]
  },
  {
   "cell_type": "code",
   "execution_count": 53,
   "metadata": {},
   "outputs": [],
   "source": [
    "from sklearn.metrics import confusion_matrix"
   ]
  },
  {
   "cell_type": "code",
   "execution_count": 54,
   "metadata": {},
   "outputs": [],
   "source": [
    "matrix= confusion_matrix(Y_test, Y_pred_knn)"
   ]
  },
  {
   "cell_type": "code",
   "execution_count": 55,
   "metadata": {},
   "outputs": [
    {
     "data": {
      "text/plain": [
       "<AxesSubplot:>"
      ]
     },
     "execution_count": 55,
     "metadata": {},
     "output_type": "execute_result"
    },
    {
     "data": {
      "image/png": "[encoded data removed]",
      "text/plain": [
       "<Figure size 432x288 with 2 Axes>"
      ]
     },
     "metadata": {
      "needs_background": "light"
     },
     "output_type": "display_data"
    }
   ],
   "source": [
    "sns.heatmap(matrix,annot = True, fmt = \"d\")"
   ]
  },
  {
   "cell_type": "markdown",
   "metadata": {},
   "source": [
    "### precision Score"
   ]
  },
  {
   "cell_type": "code",
   "execution_count": 56,
   "metadata": {},
   "outputs": [],
   "source": [
    "from sklearn.metrics import precision_score"
   ]
  },
  {
   "cell_type": "code",
   "execution_count": 57,
   "metadata": {},
   "outputs": [],
   "source": [
    "precision = precision_score(Y_test, Y_pred_knn)"
   ]
  },
  {
   "cell_type": "code",
   "execution_count": 58,
   "metadata": {},
   "outputs": [
    {
     "name": "stdout",
     "output_type": "stream",
     "text": [
      "Precision:  0.6896551724137931\n"
     ]
    }
   ],
   "source": [
    "print(\"Precision: \",precision)"
   ]
  },
  {
   "cell_type": "markdown",
   "metadata": {},
   "source": [
    "### Recall"
   ]
  },
  {
   "cell_type": "code",
   "execution_count": 59,
   "metadata": {},
   "outputs": [],
   "source": [
    "from sklearn.metrics import recall_score"
   ]
  },
  {
   "cell_type": "code",
   "execution_count": 60,
   "metadata": {},
   "outputs": [],
   "source": [
    "recall = recall_score(Y_test, Y_pred_knn)"
   ]
  },
  {
   "cell_type": "code",
   "execution_count": 61,
   "metadata": {},
   "outputs": [
    {
     "name": "stdout",
     "output_type": "stream",
     "text": [
      "Recall is:  1.0\n"
     ]
    }
   ],
   "source": [
    "print(\"Recall is: \",recall)"
   ]
  },
  {
   "cell_type": "markdown",
   "metadata": {},
   "source": [
    "### F-Score"
   ]
  },
  {
   "cell_type": "code",
   "execution_count": 62,
   "metadata": {},
   "outputs": [
    {
     "name": "stdout",
     "output_type": "stream",
     "text": [
      "0.8163265306122449\n"
     ]
    }
   ],
   "source": [
    "print((2*precision*recall)/(precision+recall))"
   ]
  },
  {
   "cell_type": "code",
   "execution_count": 63,
   "metadata": {},
   "outputs": [
    {
     "data": {
      "text/html": [
       "<div>\n",
       "<style scoped>\n",
       "    .dataframe tbody tr th:only-of-type {\n",
       "        vertical-align: middle;\n",
       "    }\n",
       "\n",
       "    .dataframe tbody tr th {\n",
       "        vertical-align: top;\n",
       "    }\n",
       "\n",
       "    .dataframe thead th {\n",
       "        text-align: right;\n",
       "    }\n",
       "</style>\n",
       "<table border=\"1\" class=\"dataframe\">\n",
       "  <thead>\n",
       "    <tr style=\"text-align: right;\">\n",
       "      <th>col_0</th>\n",
       "      <th>0</th>\n",
       "      <th>1</th>\n",
       "    </tr>\n",
       "    <tr>\n",
       "      <th>Cath</th>\n",
       "      <th></th>\n",
       "      <th></th>\n",
       "    </tr>\n",
       "  </thead>\n",
       "  <tbody>\n",
       "    <tr>\n",
       "      <th>0</th>\n",
       "      <td>2</td>\n",
       "      <td>9</td>\n",
       "    </tr>\n",
       "    <tr>\n",
       "      <th>1</th>\n",
       "      <td>0</td>\n",
       "      <td>20</td>\n",
       "    </tr>\n",
       "  </tbody>\n",
       "</table>\n",
       "</div>"
      ],
      "text/plain": [
       "col_0  0   1\n",
       "Cath        \n",
       "0      2   9\n",
       "1      0  20"
      ]
     },
     "execution_count": 63,
     "metadata": {},
     "output_type": "execute_result"
    }
   ],
   "source": [
    "CM =pd.crosstab(Y_test, Y_pred_knn)\n",
    "CM"
   ]
  },
  {
   "cell_type": "markdown",
   "metadata": {},
   "source": [
    "## II. SVM"
   ]
  },
  {
   "cell_type": "code",
   "execution_count": 64,
   "metadata": {},
   "outputs": [],
   "source": [
    "from sklearn import svm\n",
    "sv = svm.SVC(kernel='linear')\n",
    "\n",
    "sv.fit(X_train, Y_train)\n",
    "\n",
    "Y_pred_svm = sv.predict(X_test)"
   ]
  },
  {
   "cell_type": "code",
   "execution_count": 65,
   "metadata": {},
   "outputs": [
    {
     "data": {
      "text/plain": [
       "(31,)"
      ]
     },
     "execution_count": 65,
     "metadata": {},
     "output_type": "execute_result"
    }
   ],
   "source": [
    "Y_pred_svm.shape"
   ]
  },
  {
   "cell_type": "code",
   "execution_count": 66,
   "metadata": {},
   "outputs": [
    {
     "name": "stdout",
     "output_type": "stream",
     "text": [
      "The accuracy score achieved using Linear SVM is: 87.1 %\n"
     ]
    }
   ],
   "source": [
    "score_svm = round(accuracy_score(Y_pred_svm,Y_test)*100,2)\n",
    "\n",
    "print(\"The accuracy score achieved using Linear SVM is: \"+str(score_svm)+\" %\")"
   ]
  },
  {
   "cell_type": "markdown",
   "metadata": {},
   "source": [
    "### Confusion Matrix of SVM"
   ]
  },
  {
   "cell_type": "code",
   "execution_count": 67,
   "metadata": {},
   "outputs": [],
   "source": [
    "from sklearn.metrics import confusion_matrix"
   ]
  },
  {
   "cell_type": "code",
   "execution_count": 68,
   "metadata": {},
   "outputs": [],
   "source": [
    "matrix= confusion_matrix(Y_test, Y_pred_svm)"
   ]
  },
  {
   "cell_type": "code",
   "execution_count": 69,
   "metadata": {},
   "outputs": [
    {
     "data": {
      "text/plain": [
       "<AxesSubplot:>"
      ]
     },
     "execution_count": 69,
     "metadata": {},
     "output_type": "execute_result"
    },
    {
     "data": {
      "image/png": "[encoded data removed]",
      "text/plain": [
       "<Figure size 432x288 with 2 Axes>"
      ]
     },
     "metadata": {
      "needs_background": "light"
     },
     "output_type": "display_data"
    }
   ],
   "source": [
    "sns.heatmap(matrix,annot = True, fmt = \"d\")"
   ]
  },
  {
   "cell_type": "markdown",
   "metadata": {},
   "source": [
    "### precision Score"
   ]
  },
  {
   "cell_type": "code",
   "execution_count": 70,
   "metadata": {},
   "outputs": [],
   "source": [
    "from sklearn.metrics import precision_score"
   ]
  },
  {
   "cell_type": "code",
   "execution_count": 71,
   "metadata": {},
   "outputs": [],
   "source": [
    "precision = precision_score(Y_test, Y_pred_svm)"
   ]
  },
  {
   "cell_type": "code",
   "execution_count": 72,
   "metadata": {},
   "outputs": [
    {
     "name": "stdout",
     "output_type": "stream",
     "text": [
      "Precision:  0.8333333333333334\n"
     ]
    }
   ],
   "source": [
    "print(\"Precision: \",precision)"
   ]
  },
  {
   "cell_type": "markdown",
   "metadata": {},
   "source": [
    "### Recall"
   ]
  },
  {
   "cell_type": "code",
   "execution_count": 73,
   "metadata": {},
   "outputs": [],
   "source": [
    "from sklearn.metrics import recall_score"
   ]
  },
  {
   "cell_type": "code",
   "execution_count": 74,
   "metadata": {},
   "outputs": [],
   "source": [
    "recall = recall_score(Y_test, Y_pred_svm)"
   ]
  },
  {
   "cell_type": "code",
   "execution_count": 75,
   "metadata": {},
   "outputs": [
    {
     "name": "stdout",
     "output_type": "stream",
     "text": [
      "Recall is:  1.0\n"
     ]
    }
   ],
   "source": [
    "print(\"Recall is: \",recall)"
   ]
  },
  {
   "cell_type": "markdown",
   "metadata": {},
   "source": [
    "### F-Score"
   ]
  },
  {
   "cell_type": "code",
   "execution_count": 76,
   "metadata": {},
   "outputs": [
    {
     "name": "stdout",
     "output_type": "stream",
     "text": [
      "0.9090909090909091\n"
     ]
    }
   ],
   "source": [
    "print((2*precision*recall)/(precision+recall))"
   ]
  },
  {
   "cell_type": "code",
   "execution_count": 77,
   "metadata": {},
   "outputs": [
    {
     "data": {
      "text/html": [
       "<div>\n",
       "<style scoped>\n",
       "    .dataframe tbody tr th:only-of-type {\n",
       "        vertical-align: middle;\n",
       "    }\n",
       "\n",
       "    .dataframe tbody tr th {\n",
       "        vertical-align: top;\n",
       "    }\n",
       "\n",
       "    .dataframe thead th {\n",
       "        text-align: right;\n",
       "    }\n",
       "</style>\n",
       "<table border=\"1\" class=\"dataframe\">\n",
       "  <thead>\n",
       "    <tr style=\"text-align: right;\">\n",
       "      <th>col_0</th>\n",
       "      <th>0</th>\n",
       "      <th>1</th>\n",
       "    </tr>\n",
       "    <tr>\n",
       "      <th>Cath</th>\n",
       "      <th></th>\n",
       "      <th></th>\n",
       "    </tr>\n",
       "  </thead>\n",
       "  <tbody>\n",
       "    <tr>\n",
       "      <th>0</th>\n",
       "      <td>7</td>\n",
       "      <td>4</td>\n",
       "    </tr>\n",
       "    <tr>\n",
       "      <th>1</th>\n",
       "      <td>0</td>\n",
       "      <td>20</td>\n",
       "    </tr>\n",
       "  </tbody>\n",
       "</table>\n",
       "</div>"
      ],
      "text/plain": [
       "col_0  0   1\n",
       "Cath        \n",
       "0      7   4\n",
       "1      0  20"
      ]
     },
     "execution_count": 77,
     "metadata": {},
     "output_type": "execute_result"
    }
   ],
   "source": [
    "CM =pd.crosstab(Y_test, Y_pred_svm)\n",
    "CM"
   ]
  },
  {
   "cell_type": "code",
   "execution_count": 78,
   "metadata": {},
   "outputs": [],
   "source": [
    "TN=CM.iloc[0,0]\n",
    "FP=CM.iloc[0,1]\n",
    "FN=CM.iloc[1,0]\n",
    "TP=CM.iloc[1,1]"
   ]
  },
  {
   "cell_type": "code",
   "execution_count": 79,
   "metadata": {},
   "outputs": [
    {
     "data": {
      "text/plain": [
       "0.0"
      ]
     },
     "execution_count": 79,
     "metadata": {},
     "output_type": "execute_result"
    }
   ],
   "source": [
    "fnr=FN*100/(FN+TP)\n",
    "fnr"
   ]
  },
  {
   "cell_type": "markdown",
   "metadata": {},
   "source": [
    "## III. Logistic Regression"
   ]
  },
  {
   "cell_type": "code",
   "execution_count": 80,
   "metadata": {},
   "outputs": [],
   "source": [
    "from sklearn.linear_model import LogisticRegression\n",
    "\n",
    "lr = LogisticRegression()\n",
    "\n",
    "lr.fit(X_train,Y_train)\n",
    "\n",
    "Y_pred_lr = lr.predict(X_test)"
   ]
  },
  {
   "cell_type": "code",
   "execution_count": 81,
   "metadata": {},
   "outputs": [
    {
     "data": {
      "text/plain": [
       "(31,)"
      ]
     },
     "execution_count": 81,
     "metadata": {},
     "output_type": "execute_result"
    }
   ],
   "source": [
    "Y_pred_lr.shape"
   ]
  },
  {
   "cell_type": "code",
   "execution_count": 82,
   "metadata": {},
   "outputs": [
    {
     "name": "stdout",
     "output_type": "stream",
     "text": [
      "The accuracy score achieved using Logistic Regression is: 83.87 %\n"
     ]
    }
   ],
   "source": [
    "score_lr = round(accuracy_score(Y_pred_lr,Y_test)*100,2)\n",
    "\n",
    "print(\"The accuracy score achieved using Logistic Regression is: \"+str(score_lr)+\" %\")"
   ]
  },
  {
   "cell_type": "markdown",
   "metadata": {},
   "source": [
    "### Confusion Matrix of Logistic Regression"
   ]
  },
  {
   "cell_type": "code",
   "execution_count": 83,
   "metadata": {},
   "outputs": [],
   "source": [
    "from sklearn.metrics import confusion_matrix"
   ]
  },
  {
   "cell_type": "code",
   "execution_count": 84,
   "metadata": {},
   "outputs": [],
   "source": [
    "matrix= confusion_matrix(Y_test, Y_pred_lr)"
   ]
  },
  {
   "cell_type": "code",
   "execution_count": 85,
   "metadata": {},
   "outputs": [
    {
     "data": {
      "text/plain": [
       "<AxesSubplot:>"
      ]
     },
     "execution_count": 85,
     "metadata": {},
     "output_type": "execute_result"
    },
    {
     "data": {
      "image/png": "[encoded data removed]",
      "text/plain": [
       "<Figure size 432x288 with 2 Axes>"
      ]
     },
     "metadata": {
      "needs_background": "light"
     },
     "output_type": "display_data"
    }
   ],
   "source": [
    "sns.heatmap(matrix,annot = True, fmt = \"d\")"
   ]
  },
  {
   "cell_type": "markdown",
   "metadata": {},
   "source": [
    "### precision Score"
   ]
  },
  {
   "cell_type": "code",
   "execution_count": 86,
   "metadata": {},
   "outputs": [],
   "source": [
    "from sklearn.metrics import precision_score"
   ]
  },
  {
   "cell_type": "code",
   "execution_count": 87,
   "metadata": {},
   "outputs": [],
   "source": [
    "precision = precision_score(Y_test, Y_pred_lr)"
   ]
  },
  {
   "cell_type": "code",
   "execution_count": 88,
   "metadata": {},
   "outputs": [
    {
     "name": "stdout",
     "output_type": "stream",
     "text": [
      "Precision:  0.8260869565217391\n"
     ]
    }
   ],
   "source": [
    "print(\"Precision: \",precision)"
   ]
  },
  {
   "cell_type": "markdown",
   "metadata": {},
   "source": [
    "### Recall"
   ]
  },
  {
   "cell_type": "code",
   "execution_count": 89,
   "metadata": {},
   "outputs": [],
   "source": [
    "from sklearn.metrics import recall_score"
   ]
  },
  {
   "cell_type": "code",
   "execution_count": 90,
   "metadata": {},
   "outputs": [],
   "source": [
    "recall = recall_score(Y_test, Y_pred_lr)"
   ]
  },
  {
   "cell_type": "code",
   "execution_count": 91,
   "metadata": {},
   "outputs": [
    {
     "name": "stdout",
     "output_type": "stream",
     "text": [
      "Recall is:  0.95\n"
     ]
    }
   ],
   "source": [
    "print(\"Recall is: \",recall)"
   ]
  },
  {
   "cell_type": "markdown",
   "metadata": {},
   "source": [
    "### F-Score"
   ]
  },
  {
   "cell_type": "code",
   "execution_count": 92,
   "metadata": {},
   "outputs": [
    {
     "name": "stdout",
     "output_type": "stream",
     "text": [
      "0.8837209302325583\n"
     ]
    }
   ],
   "source": [
    "print((2*precision*recall)/(precision+recall))"
   ]
  },
  {
   "cell_type": "code",
   "execution_count": 93,
   "metadata": {},
   "outputs": [
    {
     "data": {
      "text/html": [
       "<div>\n",
       "<style scoped>\n",
       "    .dataframe tbody tr th:only-of-type {\n",
       "        vertical-align: middle;\n",
       "    }\n",
       "\n",
       "    .dataframe tbody tr th {\n",
       "        vertical-align: top;\n",
       "    }\n",
       "\n",
       "    .dataframe thead th {\n",
       "        text-align: right;\n",
       "    }\n",
       "</style>\n",
       "<table border=\"1\" class=\"dataframe\">\n",
       "  <thead>\n",
       "    <tr style=\"text-align: right;\">\n",
       "      <th>col_0</th>\n",
       "      <th>0</th>\n",
       "      <th>1</th>\n",
       "    </tr>\n",
       "    <tr>\n",
       "      <th>Cath</th>\n",
       "      <th></th>\n",
       "      <th></th>\n",
       "    </tr>\n",
       "  </thead>\n",
       "  <tbody>\n",
       "    <tr>\n",
       "      <th>0</th>\n",
       "      <td>7</td>\n",
       "      <td>4</td>\n",
       "    </tr>\n",
       "    <tr>\n",
       "      <th>1</th>\n",
       "      <td>1</td>\n",
       "      <td>19</td>\n",
       "    </tr>\n",
       "  </tbody>\n",
       "</table>\n",
       "</div>"
      ],
      "text/plain": [
       "col_0  0   1\n",
       "Cath        \n",
       "0      7   4\n",
       "1      1  19"
      ]
     },
     "execution_count": 93,
     "metadata": {},
     "output_type": "execute_result"
    }
   ],
   "source": [
    "CM =pd.crosstab(Y_test, Y_pred_lr)\n",
    "CM"
   ]
  },
  {
   "cell_type": "code",
   "execution_count": 94,
   "metadata": {},
   "outputs": [],
   "source": [
    "TN=CM.iloc[0,0]\n",
    "FP=CM.iloc[0,1]\n",
    "FN=CM.iloc[1,0]\n",
    "TP=CM.iloc[1,1]"
   ]
  },
  {
   "cell_type": "code",
   "execution_count": 95,
   "metadata": {},
   "outputs": [
    {
     "data": {
      "text/plain": [
       "5.0"
      ]
     },
     "execution_count": 95,
     "metadata": {},
     "output_type": "execute_result"
    }
   ],
   "source": [
    "fnr=FN*100/(FN+TP)\n",
    "fnr"
   ]
  },
  {
   "cell_type": "markdown",
   "metadata": {},
   "source": [
    "## IV. Naive Bayes"
   ]
  },
  {
   "cell_type": "code",
   "execution_count": 96,
   "metadata": {},
   "outputs": [],
   "source": [
    "from sklearn.naive_bayes import GaussianNB\n",
    "\n",
    "nb = GaussianNB()\n",
    "\n",
    "nb.fit(X_train,Y_train)\n",
    "\n",
    "Y_pred_nb = nb.predict(X_test)"
   ]
  },
  {
   "cell_type": "code",
   "execution_count": 97,
   "metadata": {},
   "outputs": [
    {
     "data": {
      "text/plain": [
       "(31,)"
      ]
     },
     "execution_count": 97,
     "metadata": {},
     "output_type": "execute_result"
    }
   ],
   "source": [
    "Y_pred_nb.shape"
   ]
  },
  {
   "cell_type": "code",
   "execution_count": 98,
   "metadata": {},
   "outputs": [
    {
     "name": "stdout",
     "output_type": "stream",
     "text": [
      "The accuracy score achieved using Naive Bayes is: 70.97 %\n"
     ]
    }
   ],
   "source": [
    "score_nb = round(accuracy_score(Y_pred_nb,Y_test)*100,2)\n",
    "\n",
    "print(\"The accuracy score achieved using Naive Bayes is: \"+str(score_nb)+\" %\")"
   ]
  },
  {
   "cell_type": "markdown",
   "metadata": {},
   "source": [
    "### Confusion Matrix for Naive Bayes"
   ]
  },
  {
   "cell_type": "code",
   "execution_count": 99,
   "metadata": {},
   "outputs": [],
   "source": [
    "from sklearn.metrics import confusion_matrix"
   ]
  },
  {
   "cell_type": "code",
   "execution_count": 100,
   "metadata": {},
   "outputs": [],
   "source": [
    "matrix= confusion_matrix(Y_test, Y_pred_nb)"
   ]
  },
  {
   "cell_type": "code",
   "execution_count": 101,
   "metadata": {},
   "outputs": [
    {
     "data": {
      "text/plain": [
       "<AxesSubplot:>"
      ]
     },
     "execution_count": 101,
     "metadata": {},
     "output_type": "execute_result"
    },
    {
     "data": {
      "image/png": "[encoded data removed]",
      "text/plain": [
       "<Figure size 432x288 with 2 Axes>"
      ]
     },
     "metadata": {
      "needs_background": "light"
     },
     "output_type": "display_data"
    }
   ],
   "source": [
    "sns.heatmap(matrix,annot = True, fmt = \"d\")"
   ]
  },
  {
   "cell_type": "markdown",
   "metadata": {},
   "source": [
    "### precision Score"
   ]
  },
  {
   "cell_type": "code",
   "execution_count": 102,
   "metadata": {},
   "outputs": [],
   "source": [
    "from sklearn.metrics import precision_score"
   ]
  },
  {
   "cell_type": "code",
   "execution_count": 103,
   "metadata": {},
   "outputs": [],
   "source": [
    "precision = precision_score(Y_test, Y_pred_nb)"
   ]
  },
  {
   "cell_type": "code",
   "execution_count": 104,
   "metadata": {},
   "outputs": [
    {
     "name": "stdout",
     "output_type": "stream",
     "text": [
      "Precision:  1.0\n"
     ]
    }
   ],
   "source": [
    "print(\"Precision: \",precision)"
   ]
  },
  {
   "cell_type": "markdown",
   "metadata": {},
   "source": [
    "### Recall"
   ]
  },
  {
   "cell_type": "code",
   "execution_count": 105,
   "metadata": {},
   "outputs": [],
   "source": [
    "from sklearn.metrics import recall_score"
   ]
  },
  {
   "cell_type": "code",
   "execution_count": 106,
   "metadata": {},
   "outputs": [],
   "source": [
    "recall = recall_score(Y_test, Y_pred_nb)"
   ]
  },
  {
   "cell_type": "code",
   "execution_count": 107,
   "metadata": {},
   "outputs": [
    {
     "name": "stdout",
     "output_type": "stream",
     "text": [
      "Recall is:  0.55\n"
     ]
    }
   ],
   "source": [
    "print(\"Recall is: \",recall)"
   ]
  },
  {
   "cell_type": "markdown",
   "metadata": {},
   "source": [
    "### F-Score"
   ]
  },
  {
   "cell_type": "code",
   "execution_count": 108,
   "metadata": {},
   "outputs": [
    {
     "name": "stdout",
     "output_type": "stream",
     "text": [
      "0.7096774193548387\n"
     ]
    }
   ],
   "source": [
    "print((2*precision*recall)/(precision+recall))"
   ]
  },
  {
   "cell_type": "code",
   "execution_count": 109,
   "metadata": {},
   "outputs": [
    {
     "data": {
      "text/html": [
       "<div>\n",
       "<style scoped>\n",
       "    .dataframe tbody tr th:only-of-type {\n",
       "        vertical-align: middle;\n",
       "    }\n",
       "\n",
       "    .dataframe tbody tr th {\n",
       "        vertical-align: top;\n",
       "    }\n",
       "\n",
       "    .dataframe thead th {\n",
       "        text-align: right;\n",
       "    }\n",
       "</style>\n",
       "<table border=\"1\" class=\"dataframe\">\n",
       "  <thead>\n",
       "    <tr style=\"text-align: right;\">\n",
       "      <th>col_0</th>\n",
       "      <th>0</th>\n",
       "      <th>1</th>\n",
       "    </tr>\n",
       "    <tr>\n",
       "      <th>Cath</th>\n",
       "      <th></th>\n",
       "      <th></th>\n",
       "    </tr>\n",
       "  </thead>\n",
       "  <tbody>\n",
       "    <tr>\n",
       "      <th>0</th>\n",
       "      <td>11</td>\n",
       "      <td>0</td>\n",
       "    </tr>\n",
       "    <tr>\n",
       "      <th>1</th>\n",
       "      <td>9</td>\n",
       "      <td>11</td>\n",
       "    </tr>\n",
       "  </tbody>\n",
       "</table>\n",
       "</div>"
      ],
      "text/plain": [
       "col_0   0   1\n",
       "Cath         \n",
       "0      11   0\n",
       "1       9  11"
      ]
     },
     "execution_count": 109,
     "metadata": {},
     "output_type": "execute_result"
    }
   ],
   "source": [
    "CM =pd.crosstab(Y_test, Y_pred_nb)\n",
    "CM"
   ]
  },
  {
   "cell_type": "code",
   "execution_count": 110,
   "metadata": {},
   "outputs": [],
   "source": [
    "TN=CM.iloc[0,0]\n",
    "FP=CM.iloc[0,1]\n",
    "FN=CM.iloc[1,0]\n",
    "TP=CM.iloc[1,1]"
   ]
  },
  {
   "cell_type": "code",
   "execution_count": 111,
   "metadata": {},
   "outputs": [
    {
     "data": {
      "text/plain": [
       "45.0"
      ]
     },
     "execution_count": 111,
     "metadata": {},
     "output_type": "execute_result"
    }
   ],
   "source": [
    "fnr=FN*100/(FN+TP)\n",
    "fnr"
   ]
  },
  {
   "cell_type": "markdown",
   "metadata": {},
   "source": [
    "## V. Decision Tree"
   ]
  },
  {
   "cell_type": "code",
   "execution_count": 112,
   "metadata": {},
   "outputs": [],
   "source": [
    "from sklearn.tree import DecisionTreeClassifier\n",
    "\n",
    "max_accuracy = 0\n",
    "\n",
    "\n",
    "for x in range(200):\n",
    "    dt = DecisionTreeClassifier(random_state=x)\n",
    "    dt.fit(X_train,Y_train)\n",
    "    Y_pred_dt = dt.predict(X_test)\n",
    "    current_accuracy = round(accuracy_score(Y_pred_dt,Y_test)*100,2)\n",
    "    if(current_accuracy>max_accuracy):\n",
    "        max_accuracy = current_accuracy\n",
    "        best_x = x\n",
    "        \n",
    "#print(max_accuracy)\n",
    "#print(best_x)\n",
    "\n",
    "\n",
    "dt = DecisionTreeClassifier(random_state=best_x)\n",
    "dt.fit(X_train,Y_train)\n",
    "Y_pred_dt = dt.predict(X_test)"
   ]
  },
  {
   "cell_type": "code",
   "execution_count": 113,
   "metadata": {},
   "outputs": [
    {
     "name": "stdout",
     "output_type": "stream",
     "text": [
      "(31,)\n"
     ]
    }
   ],
   "source": [
    "print(Y_pred_dt.shape)"
   ]
  },
  {
   "cell_type": "code",
   "execution_count": 114,
   "metadata": {},
   "outputs": [
    {
     "name": "stdout",
     "output_type": "stream",
     "text": [
      "The accuracy score achieved using Decision Tree is: 93.55 %\n"
     ]
    }
   ],
   "source": [
    "score_dt = round(accuracy_score(Y_pred_dt,Y_test)*100,2)\n",
    "\n",
    "print(\"The accuracy score achieved using Decision Tree is: \"+str(score_dt)+\" %\")"
   ]
  },
  {
   "cell_type": "markdown",
   "metadata": {},
   "source": [
    "### Confusion Matrix of Decision Tree"
   ]
  },
  {
   "cell_type": "code",
   "execution_count": 115,
   "metadata": {},
   "outputs": [],
   "source": [
    "from sklearn.metrics import confusion_matrix"
   ]
  },
  {
   "cell_type": "code",
   "execution_count": 116,
   "metadata": {},
   "outputs": [
    {
     "data": {
      "text/plain": [
       "<AxesSubplot:>"
      ]
     },
     "execution_count": 116,
     "metadata": {},
     "output_type": "execute_result"
    },
    {
     "data": {
      "image/png": "[encoded data removed]",
      "text/plain": [
       "<Figure size 432x288 with 2 Axes>"
      ]
     },
     "metadata": {
      "needs_background": "light"
     },
     "output_type": "display_data"
    }
   ],
   "source": [
    "sns.heatmap(matrix,annot = True, fmt = \"d\")"
   ]
  },
  {
   "cell_type": "markdown",
   "metadata": {},
   "source": [
    "### precision Score"
   ]
  },
  {
   "cell_type": "code",
   "execution_count": 117,
   "metadata": {},
   "outputs": [],
   "source": [
    "from sklearn.metrics import precision_score"
   ]
  },
  {
   "cell_type": "code",
   "execution_count": 118,
   "metadata": {},
   "outputs": [],
   "source": [
    "precision = precision_score(Y_test, Y_pred_dt)"
   ]
  },
  {
   "cell_type": "code",
   "execution_count": 119,
   "metadata": {},
   "outputs": [
    {
     "name": "stdout",
     "output_type": "stream",
     "text": [
      "Precision:  0.9090909090909091\n"
     ]
    }
   ],
   "source": [
    "print(\"Precision: \",precision)"
   ]
  },
  {
   "cell_type": "markdown",
   "metadata": {},
   "source": [
    "### Recall"
   ]
  },
  {
   "cell_type": "code",
   "execution_count": 120,
   "metadata": {},
   "outputs": [],
   "source": [
    "from sklearn.metrics import recall_score"
   ]
  },
  {
   "cell_type": "code",
   "execution_count": 121,
   "metadata": {},
   "outputs": [],
   "source": [
    "recall = recall_score(Y_test, Y_pred_dt)"
   ]
  },
  {
   "cell_type": "code",
   "execution_count": 122,
   "metadata": {},
   "outputs": [
    {
     "name": "stdout",
     "output_type": "stream",
     "text": [
      "Recall is:  1.0\n"
     ]
    }
   ],
   "source": [
    "print(\"Recall is: \",recall)"
   ]
  },
  {
   "cell_type": "markdown",
   "metadata": {},
   "source": [
    "### F-Score"
   ]
  },
  {
   "cell_type": "code",
   "execution_count": 123,
   "metadata": {},
   "outputs": [
    {
     "name": "stdout",
     "output_type": "stream",
     "text": [
      "0.9523809523809523\n"
     ]
    }
   ],
   "source": [
    "print((2*precision*recall)/(precision+recall))"
   ]
  },
  {
   "cell_type": "code",
   "execution_count": 124,
   "metadata": {},
   "outputs": [
    {
     "data": {
      "text/html": [
       "<div>\n",
       "<style scoped>\n",
       "    .dataframe tbody tr th:only-of-type {\n",
       "        vertical-align: middle;\n",
       "    }\n",
       "\n",
       "    .dataframe tbody tr th {\n",
       "        vertical-align: top;\n",
       "    }\n",
       "\n",
       "    .dataframe thead th {\n",
       "        text-align: right;\n",
       "    }\n",
       "</style>\n",
       "<table border=\"1\" class=\"dataframe\">\n",
       "  <thead>\n",
       "    <tr style=\"text-align: right;\">\n",
       "      <th>col_0</th>\n",
       "      <th>0</th>\n",
       "      <th>1</th>\n",
       "    </tr>\n",
       "    <tr>\n",
       "      <th>Cath</th>\n",
       "      <th></th>\n",
       "      <th></th>\n",
       "    </tr>\n",
       "  </thead>\n",
       "  <tbody>\n",
       "    <tr>\n",
       "      <th>0</th>\n",
       "      <td>9</td>\n",
       "      <td>2</td>\n",
       "    </tr>\n",
       "    <tr>\n",
       "      <th>1</th>\n",
       "      <td>0</td>\n",
       "      <td>20</td>\n",
       "    </tr>\n",
       "  </tbody>\n",
       "</table>\n",
       "</div>"
      ],
      "text/plain": [
       "col_0  0   1\n",
       "Cath        \n",
       "0      9   2\n",
       "1      0  20"
      ]
     },
     "execution_count": 124,
     "metadata": {},
     "output_type": "execute_result"
    }
   ],
   "source": [
    "CM =pd.crosstab(Y_test, Y_pred_dt)\n",
    "CM"
   ]
  },
  {
   "cell_type": "code",
   "execution_count": 125,
   "metadata": {},
   "outputs": [],
   "source": [
    "TN=CM.iloc[0,0]\n",
    "FP=CM.iloc[0,1]\n",
    "FN=CM.iloc[1,0]\n",
    "TP=CM.iloc[1,1]"
   ]
  },
  {
   "cell_type": "code",
   "execution_count": 126,
   "metadata": {},
   "outputs": [
    {
     "data": {
      "text/plain": [
       "0.0"
      ]
     },
     "execution_count": 126,
     "metadata": {},
     "output_type": "execute_result"
    }
   ],
   "source": [
    "fnr=FN*100/(FN+TP)\n",
    "fnr"
   ]
  },
  {
   "cell_type": "markdown",
   "metadata": {},
   "source": [
    "### VI. Random Forest"
   ]
  },
  {
   "cell_type": "code",
   "execution_count": 127,
   "metadata": {},
   "outputs": [],
   "source": [
    "from sklearn.ensemble import RandomForestClassifier\n",
    "\n",
    "max_accuracy = 0\n",
    "\n",
    "\n",
    "for x in range(2000):\n",
    "    rf = RandomForestClassifier(random_state=x)\n",
    "    rf.fit(X_train,Y_train)\n",
    "    Y_pred_rf = rf.predict(X_test)\n",
    "    current_accuracy = round(accuracy_score(Y_pred_rf,Y_test)*100,2)\n",
    "    if(current_accuracy>max_accuracy):\n",
    "        max_accuracy = current_accuracy\n",
    "        best_x = x\n",
    "        \n",
    "#print(max_accuracy)\n",
    "#print(best_x)\n",
    "\n",
    "rf = RandomForestClassifier(random_state=best_x)\n",
    "rf.fit(X_train,Y_train)\n",
    "Y_pred_rf = rf.predict(X_test)"
   ]
  },
  {
   "cell_type": "code",
   "execution_count": 128,
   "metadata": {},
   "outputs": [
    {
     "data": {
      "text/plain": [
       "(31,)"
      ]
     },
     "execution_count": 128,
     "metadata": {},
     "output_type": "execute_result"
    }
   ],
   "source": [
    "Y_pred_rf.shape"
   ]
  },
  {
   "cell_type": "code",
   "execution_count": 129,
   "metadata": {},
   "outputs": [
    {
     "name": "stdout",
     "output_type": "stream",
     "text": [
      "The accuracy score achieved using Decision Tree is: 93.55 %\n"
     ]
    }
   ],
   "source": [
    "score_rf = round(accuracy_score(Y_pred_rf,Y_test)*100,2)\n",
    "\n",
    "print(\"The accuracy score achieved using Decision Tree is: \"+str(score_rf)+\" %\")"
   ]
  },
  {
   "cell_type": "markdown",
   "metadata": {},
   "source": [
    "### Confusion Matrix of Random Forest"
   ]
  },
  {
   "cell_type": "code",
   "execution_count": 130,
   "metadata": {},
   "outputs": [],
   "source": [
    "from sklearn.metrics import confusion_matrix"
   ]
  },
  {
   "cell_type": "code",
   "execution_count": 131,
   "metadata": {},
   "outputs": [],
   "source": [
    "matrix= confusion_matrix(Y_test, Y_pred_rf)"
   ]
  },
  {
   "cell_type": "code",
   "execution_count": 132,
   "metadata": {},
   "outputs": [
    {
     "data": {
      "text/plain": [
       "<AxesSubplot:>"
      ]
     },
     "execution_count": 132,
     "metadata": {},
     "output_type": "execute_result"
    },
    {
     "data": {
      "image/png": "[encoded data removed]",
      "text/plain": [
       "<Figure size 432x288 with 2 Axes>"
      ]
     },
     "metadata": {
      "needs_background": "light"
     },
     "output_type": "display_data"
    }
   ],
   "source": [
    "sns.heatmap(matrix,annot = True, fmt = \"d\")"
   ]
  },
  {
   "cell_type": "markdown",
   "metadata": {},
   "source": [
    "### precision score"
   ]
  },
  {
   "cell_type": "code",
   "execution_count": 133,
   "metadata": {},
   "outputs": [],
   "source": [
    "from sklearn.metrics import precision_score"
   ]
  },
  {
   "cell_type": "code",
   "execution_count": 134,
   "metadata": {},
   "outputs": [],
   "source": [
    "precision = precision_score(Y_test, Y_pred_rf)"
   ]
  },
  {
   "cell_type": "code",
   "execution_count": 135,
   "metadata": {},
   "outputs": [
    {
     "name": "stdout",
     "output_type": "stream",
     "text": [
      "Precision:  0.9090909090909091\n"
     ]
    }
   ],
   "source": [
    "print(\"Precision: \",precision)"
   ]
  },
  {
   "cell_type": "markdown",
   "metadata": {},
   "source": [
    "### recall"
   ]
  },
  {
   "cell_type": "code",
   "execution_count": 136,
   "metadata": {},
   "outputs": [],
   "source": [
    "from sklearn.metrics import recall_score"
   ]
  },
  {
   "cell_type": "code",
   "execution_count": 137,
   "metadata": {},
   "outputs": [],
   "source": [
    "recall = recall_score(Y_test, Y_pred_rf)"
   ]
  },
  {
   "cell_type": "code",
   "execution_count": 138,
   "metadata": {},
   "outputs": [
    {
     "name": "stdout",
     "output_type": "stream",
     "text": [
      "Recall is:  1.0\n"
     ]
    }
   ],
   "source": [
    "print(\"Recall is: \",recall)"
   ]
  },
  {
   "cell_type": "markdown",
   "metadata": {},
   "source": [
    "### F score"
   ]
  },
  {
   "cell_type": "code",
   "execution_count": 139,
   "metadata": {},
   "outputs": [
    {
     "name": "stdout",
     "output_type": "stream",
     "text": [
      "0.9523809523809523\n"
     ]
    }
   ],
   "source": [
    "print((2*precision*recall)/(precision+recall))"
   ]
  },
  {
   "cell_type": "code",
   "execution_count": 140,
   "metadata": {},
   "outputs": [
    {
     "data": {
      "text/html": [
       "<div>\n",
       "<style scoped>\n",
       "    .dataframe tbody tr th:only-of-type {\n",
       "        vertical-align: middle;\n",
       "    }\n",
       "\n",
       "    .dataframe tbody tr th {\n",
       "        vertical-align: top;\n",
       "    }\n",
       "\n",
       "    .dataframe thead th {\n",
       "        text-align: right;\n",
       "    }\n",
       "</style>\n",
       "<table border=\"1\" class=\"dataframe\">\n",
       "  <thead>\n",
       "    <tr style=\"text-align: right;\">\n",
       "      <th>col_0</th>\n",
       "      <th>0</th>\n",
       "      <th>1</th>\n",
       "    </tr>\n",
       "    <tr>\n",
       "      <th>Cath</th>\n",
       "      <th></th>\n",
       "      <th></th>\n",
       "    </tr>\n",
       "  </thead>\n",
       "  <tbody>\n",
       "    <tr>\n",
       "      <th>0</th>\n",
       "      <td>9</td>\n",
       "      <td>2</td>\n",
       "    </tr>\n",
       "    <tr>\n",
       "      <th>1</th>\n",
       "      <td>0</td>\n",
       "      <td>20</td>\n",
       "    </tr>\n",
       "  </tbody>\n",
       "</table>\n",
       "</div>"
      ],
      "text/plain": [
       "col_0  0   1\n",
       "Cath        \n",
       "0      9   2\n",
       "1      0  20"
      ]
     },
     "execution_count": 140,
     "metadata": {},
     "output_type": "execute_result"
    }
   ],
   "source": [
    "CM =pd.crosstab(Y_test, Y_pred_rf)\n",
    "CM"
   ]
  },
  {
   "cell_type": "code",
   "execution_count": 141,
   "metadata": {},
   "outputs": [],
   "source": [
    "TN=CM.iloc[0,0]\n",
    "FP=CM.iloc[0,1]\n",
    "FN=CM.iloc[1,0]\n",
    "TP=CM.iloc[1,1]"
   ]
  },
  {
   "cell_type": "markdown",
   "metadata": {},
   "source": [
    "#### False negative rate of the model"
   ]
  },
  {
   "cell_type": "code",
   "execution_count": 142,
   "metadata": {},
   "outputs": [
    {
     "data": {
      "text/plain": [
       "0.0"
      ]
     },
     "execution_count": 142,
     "metadata": {},
     "output_type": "execute_result"
    }
   ],
   "source": [
    "fnr=FN*100/(FN+TP)\n",
    "fnr"
   ]
  },
  {
   "cell_type": "markdown",
   "metadata": {},
   "source": [
    "### Final Result"
   ]
  },
  {
   "cell_type": "code",
   "execution_count": 143,
   "metadata": {},
   "outputs": [
    {
     "name": "stdout",
     "output_type": "stream",
     "text": [
      "The accuracy score achieved using K Nearest Neighbors is: 70.97 %\n",
      "The accuracy score achieved using Support Vector Machine is: 87.1 %\n",
      "The accuracy score achieved using Logistic Regression is: 83.87 %\n",
      "The accuracy score achieved using Naive Bayes is: 70.97 %\n",
      "The accuracy score achieved using Decision Tree is: 93.55 %\n",
      "The accuracy score achieved using Random Forest is: 93.55 %\n"
     ]
    }
   ],
   "source": [
    "scores = [score_knn,score_svm,score_lr,score_nb,score_dt,score_rf]\n",
    "algorithms = [\"K Nearest Neighbors\",\"Support Vector Machine\",\"Logistic Regression\",\"Naive Bayes\",\"Decision Tree\",\"Random Forest\"]    \n",
    "\n",
    "for i in range(len(algorithms)):\n",
    "    print(\"The accuracy score achieved using \"+algorithms[i]+\" is: \"+str(scores[i])+\" %\")"
   ]
  },
  {
   "cell_type": "code",
   "execution_count": 144,
   "metadata": {
    "scrolled": true
   },
   "outputs": [
    {
     "data": {
      "text/plain": [
       "<AxesSubplot:xlabel='Algorithms', ylabel='Accuracy score'>"
      ]
     },
     "execution_count": 144,
     "metadata": {},
     "output_type": "execute_result"
    },
    {
     "data": {
      "image/png": "[encoded data removed]",
      "text/plain": [
       "<Figure size 1080x576 with 1 Axes>"
      ]
     },
     "metadata": {},
     "output_type": "display_data"
    }
   ],
   "source": [
    "sns.set(rc={'figure.figsize':(15,8)},palette='bright')\n",
    "\n",
    "plt.xlabel(\"Algorithms\")\n",
    "plt.ylabel(\"Accuracy score\")\n",
    "\n",
    "sns.barplot(algorithms,scores,)"
   ]
  },
  {
   "cell_type": "code",
   "execution_count": null,
   "metadata": {},
   "outputs": [],
   "source": []
  }
 ],
 "metadata": {
  "kernelspec": {
   "display_name": "Python 3",
   "language": "python",
   "name": "python3"
  },
  "language_info": {
   "codemirror_mode": {
    "name": "ipython",
    "version": 3
   },
   "file_extension": ".py",
   "mimetype": "text/x-python",
   "name": "python",
   "nbconvert_exporter": "python",
   "pygments_lexer": "ipython3",
   "version": "3.8.5"
  }
 },
 "nbformat": 4,
 "nbformat_minor": 4
}
